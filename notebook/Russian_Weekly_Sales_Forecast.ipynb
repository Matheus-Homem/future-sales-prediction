{
  "nbformat": 4,
  "nbformat_minor": 0,
  "metadata": {
    "colab": {
      "name": "Russian Weekly Sales Forecast.ipynb",
      "provenance": [],
      "collapsed_sections": [],
      "authorship_tag": "ABX9TyNtgLLpe/LXnBhq3mipTBYE",
      "include_colab_link": true
    },
    "kernelspec": {
      "name": "python3",
      "display_name": "Python 3"
    },
    "language_info": {
      "name": "python"
    }
  },
  "cells": [
    {
      "cell_type": "markdown",
      "metadata": {
        "id": "view-in-github",
        "colab_type": "text"
      },
      "source": [
        "<a href=\"https://colab.research.google.com/github/Matheus-Homem/russian_weekly_sales/blob/main/notebook/Russian_Weekly_Sales_Forecast.ipynb\" target=\"_parent\"><img src=\"https://colab.research.google.com/assets/colab-badge.svg\" alt=\"Open In Colab\"/></a>"
      ]
    },
    {
      "cell_type": "markdown",
      "metadata": {
        "id": "3o4smiNcsKX1"
      },
      "source": [
        "# 0. Imports"
      ]
    },
    {
      "cell_type": "markdown",
      "metadata": {
        "id": "VHkH_tzdyxBi"
      },
      "source": [
        "## 0.1. Libraries"
      ]
    },
    {
      "cell_type": "code",
      "metadata": {
        "id": "DfOkpi50sCtv",
        "colab": {
          "base_uri": "https://localhost:8080/"
        },
        "outputId": "e1a9185b-2e55-4d6c-f2b2-616a15fcd8f8"
      },
      "source": [
        "import pandas as pd\n",
        "import numpy as np\n",
        "import seaborn as sns\n",
        "sns.set_style('darkgrid')\n",
        "import matplotlib.pyplot as plt\n",
        "import matplotlib.ticker as tick\n",
        "from matplotlib import cm\n",
        "import seaborn as sns\n",
        "!pip install joypy\n",
        "from joypy import joyplot\n",
        "from tabulate import tabulate"
      ],
      "execution_count": 2,
      "outputs": [
        {
          "output_type": "stream",
          "name": "stdout",
          "text": [
            "Requirement already satisfied: joypy in /usr/local/lib/python3.7/dist-packages (0.2.5)\n",
            "Requirement already satisfied: numpy>=1.16.5 in /usr/local/lib/python3.7/dist-packages (from joypy) (1.19.5)\n",
            "Requirement already satisfied: scipy>=0.11.0 in /usr/local/lib/python3.7/dist-packages (from joypy) (1.4.1)\n",
            "Requirement already satisfied: pandas>=0.20.0 in /usr/local/lib/python3.7/dist-packages (from joypy) (1.1.5)\n",
            "Requirement already satisfied: matplotlib in /usr/local/lib/python3.7/dist-packages (from joypy) (3.2.2)\n",
            "Requirement already satisfied: python-dateutil>=2.7.3 in /usr/local/lib/python3.7/dist-packages (from pandas>=0.20.0->joypy) (2.8.2)\n",
            "Requirement already satisfied: pytz>=2017.2 in /usr/local/lib/python3.7/dist-packages (from pandas>=0.20.0->joypy) (2018.9)\n",
            "Requirement already satisfied: six>=1.5 in /usr/local/lib/python3.7/dist-packages (from python-dateutil>=2.7.3->pandas>=0.20.0->joypy) (1.15.0)\n",
            "Requirement already satisfied: pyparsing!=2.0.4,!=2.1.2,!=2.1.6,>=2.0.1 in /usr/local/lib/python3.7/dist-packages (from matplotlib->joypy) (2.4.7)\n",
            "Requirement already satisfied: kiwisolver>=1.0.1 in /usr/local/lib/python3.7/dist-packages (from matplotlib->joypy) (1.3.2)\n",
            "Requirement already satisfied: cycler>=0.10 in /usr/local/lib/python3.7/dist-packages (from matplotlib->joypy) (0.10.0)\n"
          ]
        }
      ]
    },
    {
      "cell_type": "code",
      "metadata": {
        "id": "e4nJ6dGXtI8O"
      },
      "source": [
        "import warnings\n",
        "warnings.filterwarnings('ignore')"
      ],
      "execution_count": 3,
      "outputs": []
    },
    {
      "cell_type": "code",
      "metadata": {
        "id": "mP85Sr9R7M62"
      },
      "source": [
        "# Colors\n",
        "viridis = cm.get_cmap('viridis', 12)(0.2)"
      ],
      "execution_count": 4,
      "outputs": []
    },
    {
      "cell_type": "markdown",
      "metadata": {
        "id": "TVqXmvb4tQ3D"
      },
      "source": [
        "## 0.2. Loading Data"
      ]
    },
    {
      "cell_type": "code",
      "metadata": {
        "id": "Re7dYxQUtO5u"
      },
      "source": [
        "# Importing data from .csv\n",
        "item_categories = pd.read_csv(\"https://github.com/Matheus-Homem/future-sales-prediction/raw/main/data/item_categories%20(translated).csv\")\n",
        "items = pd.read_csv(\"https://github.com/Matheus-Homem/future-sales-prediction/raw/main/data/items%20(translated).csv\")\n",
        "sales_train = pd.read_csv(\"https://github.com/Matheus-Homem/future-sales-prediction/raw/main/data/sales_train.csv\")\n",
        "shops = pd.read_csv(\"https://github.com/Matheus-Homem/future-sales-prediction/raw/main/data/shops%20(translated).csv\")\n",
        "holidays = pd.read_csv(\"https://github.com/Matheus-Homem/russian_weekly_sales/raw/main/data/russian_holidays.csv\")"
      ],
      "execution_count": 5,
      "outputs": []
    },
    {
      "cell_type": "code",
      "metadata": {
        "colab": {
          "base_uri": "https://localhost:8080/"
        },
        "id": "JHEEC-jEvpJy",
        "outputId": "e9da36cc-99e1-4696-98bb-0a9a86e696ab"
      },
      "source": [
        "# First row of 'item_categories'\n",
        "item_categories.loc[0]"
      ],
      "execution_count": 6,
      "outputs": [
        {
          "output_type": "execute_result",
          "data": {
            "text/plain": [
              "item_category_name         PC - Гарнитуры/Наушники\n",
              "item_category_name_en    PC - Headset / Headphones\n",
              "item_category_id                                 0\n",
              "Name: 0, dtype: object"
            ]
          },
          "metadata": {},
          "execution_count": 6
        }
      ]
    },
    {
      "cell_type": "code",
      "metadata": {
        "colab": {
          "base_uri": "https://localhost:8080/"
        },
        "id": "o87vFi7pu7re",
        "outputId": "9e5c8798-f0ed-4842-b213-224688b56d58"
      },
      "source": [
        "# First row of 'items'\n",
        "items.loc[0]"
      ],
      "execution_count": 7,
      "outputs": [
        {
          "output_type": "execute_result",
          "data": {
            "text/plain": [
              "item_name                ! ВО ВЛАСТИ НАВАЖДЕНИЯ (ПЛАСТ.)         D\n",
              "item_name_en        Lucky In the power of the puffy (reservoir.) D\n",
              "item_id                                                          0\n",
              "item_category_id                                                40\n",
              "Name: 0, dtype: object"
            ]
          },
          "metadata": {},
          "execution_count": 7
        }
      ]
    },
    {
      "cell_type": "code",
      "metadata": {
        "colab": {
          "base_uri": "https://localhost:8080/"
        },
        "id": "gjrpgsTAvzPS",
        "outputId": "14d0045f-911e-47e7-90a0-fe24ae2eac91"
      },
      "source": [
        "# First row of 'sales_train'\n",
        "sales_train.loc[0]"
      ],
      "execution_count": 8,
      "outputs": [
        {
          "output_type": "execute_result",
          "data": {
            "text/plain": [
              "date              02.01.2013\n",
              "date_block_num             0\n",
              "shop_id                   59\n",
              "item_id                22154\n",
              "item_price               999\n",
              "item_cnt_day               1\n",
              "Name: 0, dtype: object"
            ]
          },
          "metadata": {},
          "execution_count": 8
        }
      ]
    },
    {
      "cell_type": "code",
      "metadata": {
        "colab": {
          "base_uri": "https://localhost:8080/"
        },
        "id": "BgjyldMBxQeK",
        "outputId": "0c61116d-9cd4-4ce5-aaff-2a0b29f31669"
      },
      "source": [
        "# First row of 'shops'\n",
        "shops.loc[0]"
      ],
      "execution_count": 9,
      "outputs": [
        {
          "output_type": "execute_result",
          "data": {
            "text/plain": [
              "shop_name          !Якутск Орджоникидзе, 56 фран\n",
              "shop_name_en    ! Yakutsk Ordzhonikidze, 56 fran\n",
              "shop_id                                        0\n",
              "Name: 0, dtype: object"
            ]
          },
          "metadata": {},
          "execution_count": 9
        }
      ]
    },
    {
      "cell_type": "code",
      "metadata": {
        "colab": {
          "base_uri": "https://localhost:8080/"
        },
        "id": "DALSkNJyXYtM",
        "outputId": "13dc72e9-5e91-45d8-9973-9b63ce661444"
      },
      "source": [
        "# First row of 'holidays'\n",
        "holidays.loc[0]"
      ],
      "execution_count": 10,
      "outputs": [
        {
          "output_type": "execute_result",
          "data": {
            "text/plain": [
              "Day                       Friday\n",
              "Date                     jan. 01\n",
              "Holiday Name      New Year's Day\n",
              "Type            National Holiday\n",
              "Comments                     NaN\n",
              "Name: 0, dtype: object"
            ]
          },
          "metadata": {},
          "execution_count": 10
        }
      ]
    },
    {
      "cell_type": "markdown",
      "metadata": {
        "id": "r2lOF9P-zEYQ"
      },
      "source": [
        "## 0.3. Helper Functions"
      ]
    },
    {
      "cell_type": "code",
      "metadata": {
        "id": "TKC-BMSQx1uQ"
      },
      "source": [
        "# Axes label formatter\n",
        "def format_number(data_value,indx):\n",
        "  if data_value >= 1000000000:\n",
        "    formatter = '{:1.1f}B'.format(data_value*0.000000001)\n",
        "  elif (data_value < 1000000000) & (data_value >= 10000000):  \n",
        "    formatter = '{:1.0f}M'.format(data_value*0.000001)\n",
        "  elif (data_value < 10000000) & (data_value >= 1000000):  \n",
        "    formatter = '{:1.1f}M'.format(data_value*0.000001)\n",
        "  else:\n",
        "    formatter = '{:1.0f}K'.format(data_value*0.001)\n",
        "  return formatter"
      ],
      "execution_count": 11,
      "outputs": []
    },
    {
      "cell_type": "code",
      "metadata": {
        "id": "kDWqB49DRbef"
      },
      "source": [
        "def cramer_v(x,y):\n",
        "  # Creating Confusion Matrix\n",
        "  cm = pd.crosstab(x,y).values\n",
        "  # Performing Chi² Test from the confusion matrix\n",
        "  chi2 = stats.chi2_contingency(cm)[0]\n",
        "  # Adding all values from confusion matrix\n",
        "  n = cm.sum()\n",
        "  # Getting the dimensions of the confusion matrix\n",
        "  r,k = cm.shape\n",
        "\n",
        "  # Correcting Values\n",
        "  chi2corr = max(0,chi2 - (k-1)*(r-1)/(n-1))\n",
        "  kcorr = k - (k-1)**2/(n-1)\n",
        "  rcorr = r - (r-1)**2/(n-1)\n",
        "\n",
        "  # Appling Cramér's V\n",
        "  return np.sqrt((chi2corr/n)/(min(kcorr-1,rcorr-1)))"
      ],
      "execution_count": 12,
      "outputs": []
    },
    {
      "cell_type": "markdown",
      "metadata": {
        "id": "1vKcpaXKzJCA"
      },
      "source": [
        "# 1. Data Description"
      ]
    },
    {
      "cell_type": "markdown",
      "metadata": {
        "id": "oeHxgdDNzSfZ"
      },
      "source": [
        "## 1.1. Merging Tables"
      ]
    },
    {
      "cell_type": "code",
      "metadata": {
        "colab": {
          "base_uri": "https://localhost:8080/",
          "height": 359
        },
        "id": "uY3eZDwKzM3b",
        "outputId": "be16fdfb-0d52-4e1c-cd23-f1f557b594da"
      },
      "source": [
        "df1 = pd.merge(items,item_categories,on='item_category_id')\n",
        "df1 = pd.merge(sales_train,df1,on='item_id')\n",
        "df1 = pd.merge(df1,shops,on='shop_id')\n",
        "\n",
        "cols_drop = ['item_name','item_category_name','shop_name']\n",
        "df1 = df1.drop(cols_drop, axis=1)\n",
        "\n",
        "df1.rename(columns={'item_name_en': 'item_name',\n",
        "                   'item_category_name_en': 'item_category_name',\n",
        "                   'shop_name_en': 'shop_name'},\n",
        "                   inplace=True)\n",
        "\n",
        "df1.sample().T"
      ],
      "execution_count": 13,
      "outputs": [
        {
          "output_type": "execute_result",
          "data": {
            "text/html": [
              "<div>\n",
              "<style scoped>\n",
              "    .dataframe tbody tr th:only-of-type {\n",
              "        vertical-align: middle;\n",
              "    }\n",
              "\n",
              "    .dataframe tbody tr th {\n",
              "        vertical-align: top;\n",
              "    }\n",
              "\n",
              "    .dataframe thead th {\n",
              "        text-align: right;\n",
              "    }\n",
              "</style>\n",
              "<table border=\"1\" class=\"dataframe\">\n",
              "  <thead>\n",
              "    <tr style=\"text-align: right;\">\n",
              "      <th></th>\n",
              "      <th>1977284</th>\n",
              "    </tr>\n",
              "  </thead>\n",
              "  <tbody>\n",
              "    <tr>\n",
              "      <th>date</th>\n",
              "      <td>25.01.2014</td>\n",
              "    </tr>\n",
              "    <tr>\n",
              "      <th>date_block_num</th>\n",
              "      <td>12</td>\n",
              "    </tr>\n",
              "    <tr>\n",
              "      <th>shop_id</th>\n",
              "      <td>30</td>\n",
              "    </tr>\n",
              "    <tr>\n",
              "      <th>item_id</th>\n",
              "      <td>9865</td>\n",
              "    </tr>\n",
              "    <tr>\n",
              "      <th>item_price</th>\n",
              "      <td>149</td>\n",
              "    </tr>\n",
              "    <tr>\n",
              "      <th>item_cnt_day</th>\n",
              "      <td>1</td>\n",
              "    </tr>\n",
              "    <tr>\n",
              "      <th>item_name</th>\n",
              "      <td>Viy (region)</td>\n",
              "    </tr>\n",
              "    <tr>\n",
              "      <th>item_category_id</th>\n",
              "      <td>40</td>\n",
              "    </tr>\n",
              "    <tr>\n",
              "      <th>item_category_name</th>\n",
              "      <td>Cinema - DVD.</td>\n",
              "    </tr>\n",
              "    <tr>\n",
              "      <th>shop_name</th>\n",
              "      <td>Moscow TC \"Perlovsky\"</td>\n",
              "    </tr>\n",
              "  </tbody>\n",
              "</table>\n",
              "</div>"
            ],
            "text/plain": [
              "                                  1977284\n",
              "date                           25.01.2014\n",
              "date_block_num                         12\n",
              "shop_id                                30\n",
              "item_id                              9865\n",
              "item_price                            149\n",
              "item_cnt_day                            1\n",
              "item_name                    Viy (region)\n",
              "item_category_id                       40\n",
              "item_category_name          Cinema - DVD.\n",
              "shop_name           Moscow TC \"Perlovsky\""
            ]
          },
          "metadata": {},
          "execution_count": 13
        }
      ]
    },
    {
      "cell_type": "markdown",
      "metadata": {
        "id": "GCqopFbb1zg0"
      },
      "source": [
        "## 1.2. Data Dimensions"
      ]
    },
    {
      "cell_type": "code",
      "metadata": {
        "colab": {
          "base_uri": "https://localhost:8080/"
        },
        "id": "ztahC8hh0vyx",
        "outputId": "6de41eff-8be2-4726-92e0-46cb2caa1f3a"
      },
      "source": [
        "print('Number of Rows: {:,}'.format(df1.shape[0]))\n",
        "print('Number of Columns: ',df1.shape[1])"
      ],
      "execution_count": 14,
      "outputs": [
        {
          "output_type": "stream",
          "name": "stdout",
          "text": [
            "Number of Rows: 2,935,849\n",
            "Number of Columns:  10\n"
          ]
        }
      ]
    },
    {
      "cell_type": "markdown",
      "metadata": {
        "id": "r4uA0QDV21l5"
      },
      "source": [
        "## 1.3. Data Types"
      ]
    },
    {
      "cell_type": "code",
      "metadata": {
        "colab": {
          "base_uri": "https://localhost:8080/"
        },
        "id": "iUMP7ILQ15rI",
        "outputId": "84511e90-69f6-4d5c-a55d-038ce75ab724"
      },
      "source": [
        "df1.dtypes"
      ],
      "execution_count": 15,
      "outputs": [
        {
          "output_type": "execute_result",
          "data": {
            "text/plain": [
              "date                   object\n",
              "date_block_num          int64\n",
              "shop_id                 int64\n",
              "item_id                 int64\n",
              "item_price            float64\n",
              "item_cnt_day          float64\n",
              "item_name              object\n",
              "item_category_id        int64\n",
              "item_category_name     object\n",
              "shop_name              object\n",
              "dtype: object"
            ]
          },
          "metadata": {},
          "execution_count": 15
        }
      ]
    },
    {
      "cell_type": "markdown",
      "metadata": {
        "id": "SjgHBpW-3Trn"
      },
      "source": [
        "## 1.4. Change Data Types"
      ]
    },
    {
      "cell_type": "code",
      "metadata": {
        "id": "PGeYx5yG3I0I"
      },
      "source": [
        "df1['date'] = pd.to_datetime(df1['date'])"
      ],
      "execution_count": 16,
      "outputs": []
    },
    {
      "cell_type": "markdown",
      "metadata": {
        "id": "uhsVF-hD4wQh"
      },
      "source": [
        "## 1.5. NA Checking"
      ]
    },
    {
      "cell_type": "code",
      "metadata": {
        "colab": {
          "base_uri": "https://localhost:8080/"
        },
        "id": "iRc0hD0p4h2F",
        "outputId": "1e58e827-89bc-40ad-87aa-1885f209c887"
      },
      "source": [
        "df1.isna().sum()"
      ],
      "execution_count": 17,
      "outputs": [
        {
          "output_type": "execute_result",
          "data": {
            "text/plain": [
              "date                  0\n",
              "date_block_num        0\n",
              "shop_id               0\n",
              "item_id               0\n",
              "item_price            0\n",
              "item_cnt_day          0\n",
              "item_name             0\n",
              "item_category_id      0\n",
              "item_category_name    0\n",
              "shop_name             0\n",
              "dtype: int64"
            ]
          },
          "metadata": {},
          "execution_count": 17
        }
      ]
    },
    {
      "cell_type": "markdown",
      "metadata": {
        "id": "DlIX288p5Hrn"
      },
      "source": [
        "## 1.6. Fillout NA"
      ]
    },
    {
      "cell_type": "markdown",
      "metadata": {
        "id": "nqxJZBAe5KQ_"
      },
      "source": [
        "- None of the columns have null values;"
      ]
    },
    {
      "cell_type": "markdown",
      "metadata": {
        "id": "CbOcge6O5bTX"
      },
      "source": [
        "## 1.7. Descriptive Statistical"
      ]
    },
    {
      "cell_type": "code",
      "metadata": {
        "id": "jjoKZTKK47Ez"
      },
      "source": [
        "num_attributes = df1.select_dtypes(include=['int64','float64'])\n",
        "cat_attributes = df1.select_dtypes(exclude=['int64','float64','datetime64[ns]'])"
      ],
      "execution_count": 18,
      "outputs": []
    },
    {
      "cell_type": "markdown",
      "metadata": {
        "id": "JkE4KeSq5j4p"
      },
      "source": [
        "### 1.7.1. Numerical Attributes"
      ]
    },
    {
      "cell_type": "code",
      "metadata": {
        "id": "VnB8HO8J5i0e"
      },
      "source": [
        "# Central Tendency - mean, median\n",
        "ct1 = pd.DataFrame(num_attributes.apply(np.mean)).T\n",
        "ct2 = pd.DataFrame(num_attributes.apply(np.median)).T\n",
        "\n",
        "# Dispersion - std, min, max, range, skew, kurtosis\n",
        "d1 = pd.DataFrame(num_attributes.apply(np.std)).T\n",
        "d2 = pd.DataFrame(num_attributes.apply(min)).T\n",
        "d3 = pd.DataFrame(num_attributes.apply(max)).T\n",
        "d4 = pd.DataFrame(num_attributes.apply(lambda x: x.max() - x.min())).T\n",
        "d5 = pd.DataFrame(num_attributes.apply(lambda x: x.skew())).T\n",
        "d6 = pd.DataFrame(num_attributes.apply(lambda x: x.kurtosis())).T\n",
        "\n",
        "# Contacatenate\n",
        "n = pd.concat([d2,d3,d4,ct1,ct2,d1,d5,d6]).T.reset_index()\n",
        "n.columns = ['Attributes','Min','Max','Range','Mean','Median','Std','Skew','Kurtosis']"
      ],
      "execution_count": 19,
      "outputs": []
    },
    {
      "cell_type": "code",
      "metadata": {
        "colab": {
          "base_uri": "https://localhost:8080/",
          "height": 235
        },
        "id": "5S49YqL95q45",
        "outputId": "0cafa4e5-e7f6-491d-9015-3f1ca77821c8"
      },
      "source": [
        "n"
      ],
      "execution_count": 20,
      "outputs": [
        {
          "output_type": "execute_result",
          "data": {
            "text/html": [
              "<div>\n",
              "<style scoped>\n",
              "    .dataframe tbody tr th:only-of-type {\n",
              "        vertical-align: middle;\n",
              "    }\n",
              "\n",
              "    .dataframe tbody tr th {\n",
              "        vertical-align: top;\n",
              "    }\n",
              "\n",
              "    .dataframe thead th {\n",
              "        text-align: right;\n",
              "    }\n",
              "</style>\n",
              "<table border=\"1\" class=\"dataframe\">\n",
              "  <thead>\n",
              "    <tr style=\"text-align: right;\">\n",
              "      <th></th>\n",
              "      <th>Attributes</th>\n",
              "      <th>Min</th>\n",
              "      <th>Max</th>\n",
              "      <th>Range</th>\n",
              "      <th>Mean</th>\n",
              "      <th>Median</th>\n",
              "      <th>Std</th>\n",
              "      <th>Skew</th>\n",
              "      <th>Kurtosis</th>\n",
              "    </tr>\n",
              "  </thead>\n",
              "  <tbody>\n",
              "    <tr>\n",
              "      <th>0</th>\n",
              "      <td>date_block_num</td>\n",
              "      <td>0.0</td>\n",
              "      <td>33.0</td>\n",
              "      <td>33.0</td>\n",
              "      <td>14.569911</td>\n",
              "      <td>14.0</td>\n",
              "      <td>9.422986</td>\n",
              "      <td>0.203858</td>\n",
              "      <td>-1.082869</td>\n",
              "    </tr>\n",
              "    <tr>\n",
              "      <th>1</th>\n",
              "      <td>shop_id</td>\n",
              "      <td>0.0</td>\n",
              "      <td>59.0</td>\n",
              "      <td>59.0</td>\n",
              "      <td>33.001728</td>\n",
              "      <td>31.0</td>\n",
              "      <td>16.226970</td>\n",
              "      <td>-0.072361</td>\n",
              "      <td>-1.025358</td>\n",
              "    </tr>\n",
              "    <tr>\n",
              "      <th>2</th>\n",
              "      <td>item_id</td>\n",
              "      <td>0.0</td>\n",
              "      <td>22169.0</td>\n",
              "      <td>22169.0</td>\n",
              "      <td>10197.227057</td>\n",
              "      <td>9343.0</td>\n",
              "      <td>6324.296277</td>\n",
              "      <td>0.257174</td>\n",
              "      <td>-1.225210</td>\n",
              "    </tr>\n",
              "    <tr>\n",
              "      <th>3</th>\n",
              "      <td>item_price</td>\n",
              "      <td>-1.0</td>\n",
              "      <td>307980.0</td>\n",
              "      <td>307981.0</td>\n",
              "      <td>890.853233</td>\n",
              "      <td>399.0</td>\n",
              "      <td>1729.799336</td>\n",
              "      <td>10.750423</td>\n",
              "      <td>445.532826</td>\n",
              "    </tr>\n",
              "    <tr>\n",
              "      <th>4</th>\n",
              "      <td>item_cnt_day</td>\n",
              "      <td>-22.0</td>\n",
              "      <td>2169.0</td>\n",
              "      <td>2191.0</td>\n",
              "      <td>1.242641</td>\n",
              "      <td>1.0</td>\n",
              "      <td>2.618834</td>\n",
              "      <td>272.833162</td>\n",
              "      <td>177478.098774</td>\n",
              "    </tr>\n",
              "    <tr>\n",
              "      <th>5</th>\n",
              "      <td>item_category_id</td>\n",
              "      <td>0.0</td>\n",
              "      <td>83.0</td>\n",
              "      <td>83.0</td>\n",
              "      <td>40.001383</td>\n",
              "      <td>40.0</td>\n",
              "      <td>17.100756</td>\n",
              "      <td>0.318283</td>\n",
              "      <td>-0.525158</td>\n",
              "    </tr>\n",
              "  </tbody>\n",
              "</table>\n",
              "</div>"
            ],
            "text/plain": [
              "         Attributes   Min       Max  ...          Std        Skew       Kurtosis\n",
              "0    date_block_num   0.0      33.0  ...     9.422986    0.203858      -1.082869\n",
              "1           shop_id   0.0      59.0  ...    16.226970   -0.072361      -1.025358\n",
              "2           item_id   0.0   22169.0  ...  6324.296277    0.257174      -1.225210\n",
              "3        item_price  -1.0  307980.0  ...  1729.799336   10.750423     445.532826\n",
              "4      item_cnt_day -22.0    2169.0  ...     2.618834  272.833162  177478.098774\n",
              "5  item_category_id   0.0      83.0  ...    17.100756    0.318283      -0.525158\n",
              "\n",
              "[6 rows x 9 columns]"
            ]
          },
          "metadata": {},
          "execution_count": 20
        }
      ]
    },
    {
      "cell_type": "markdown",
      "metadata": {
        "id": "0S11x5FA56aJ"
      },
      "source": [
        "### 1.7.2. Categorical Attributes"
      ]
    },
    {
      "cell_type": "code",
      "metadata": {
        "colab": {
          "base_uri": "https://localhost:8080/"
        },
        "id": "lMd5_PXf5snK",
        "outputId": "1f7c378f-42d8-4ad6-88df-1e7b37105c55"
      },
      "source": [
        "# Unique values\n",
        "cat_attributes.apply(lambda x: x.unique().shape[0])"
      ],
      "execution_count": 21,
      "outputs": [
        {
          "output_type": "execute_result",
          "data": {
            "text/plain": [
              "item_name             21720\n",
              "item_category_name       84\n",
              "shop_name                60\n",
              "dtype: int64"
            ]
          },
          "metadata": {},
          "execution_count": 21
        }
      ]
    },
    {
      "cell_type": "markdown",
      "metadata": {
        "id": "04h7KG-76ZEA"
      },
      "source": [
        "# 2. Feature Engineering"
      ]
    },
    {
      "cell_type": "code",
      "metadata": {
        "id": "L-R8drGd6Dv2"
      },
      "source": [
        "df2 = df1.copy()"
      ],
      "execution_count": 22,
      "outputs": []
    },
    {
      "cell_type": "markdown",
      "metadata": {
        "id": "W59a-VNC05If"
      },
      "source": [
        "## 2.1. Hypothesis Mind Map"
      ]
    },
    {
      "cell_type": "markdown",
      "metadata": {
        "id": "1MmGqVBmp_EM"
      },
      "source": [
        "![Russian Project - Hypothesis Mind Map.png](data:image/png;base64,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)"
      ]
    },
    {
      "cell_type": "markdown",
      "metadata": {
        "id": "1UMlG9oM09ym"
      },
      "source": [
        "## 2.2. List of Hypothesis"
      ]
    },
    {
      "cell_type": "markdown",
      "metadata": {
        "id": "WlRI49g4qDQz"
      },
      "source": [
        "**01.** Stores should sell more over the years\n",
        "\n",
        "**02.** Stores should sell more in the second semester\n",
        "\n",
        "**03.** Stores should sell more in the first half of the month\n",
        "\n",
        "**04.** Stores should sell more on weekends\n",
        "\n",
        "**05.** Stores located in Moscow should sell more\n",
        "\n",
        "**06.** Shopping Center type stores should sell more\n",
        "\n",
        "**07.** Stores should sell less on holidays\n",
        "\n",
        "**08.** \n",
        "\n",
        "**09.** "
      ]
    },
    {
      "cell_type": "markdown",
      "metadata": {
        "id": "RDmacG9K1C42"
      },
      "source": [
        "## 2.3. Feature Engineering"
      ]
    },
    {
      "cell_type": "markdown",
      "metadata": {
        "id": "SbFkQM6aXqcy"
      },
      "source": [
        "### 2.3.1. Main Dataframe"
      ]
    },
    {
      "cell_type": "code",
      "metadata": {
        "colab": {
          "base_uri": "https://localhost:8080/"
        },
        "id": "bD-RAi7xwvwD",
        "outputId": "876d1d30-f0c6-4218-dc5b-35021859903e"
      },
      "source": [
        "# Studying item_cnt_day\n",
        "print('Feature item_cnt_day has {} values equal to 0 and {} values less than 0;'.format(df2[df2['item_cnt_day']==0].shape[0],df2[df2['item_cnt_day']<0].shape[0]))\n",
        "# Since a store cannot sell negative amounts of items, we will assume that such amounts mean 0\n",
        "df2['item_cnt_day'] = list(map(lambda x: 0 if x<0 else x, df2['item_cnt_day']))\n",
        "# As seen in 1.7.1. there are high values for the variable, so we will reduce all outliers above the 99.9 percentile to the 99.9 percentile itself\n",
        "#sub_percentil = np.percentile(df2['item_cnt_day'], 99.9)\n",
        "#df2['item_cnt_day'] = list(map(lambda x: sub_percentil if x > sub_percentil else x, df2['item_cnt_day']))"
      ],
      "execution_count": 23,
      "outputs": [
        {
          "output_type": "stream",
          "name": "stdout",
          "text": [
            "Feature item_cnt_day has 0 values equal to 0 and 7356 values less than 0;\n"
          ]
        }
      ]
    },
    {
      "cell_type": "code",
      "metadata": {
        "id": "23-IoZvc6CHX"
      },
      "source": [
        "# Grouping item categories\n",
        "unique_categories = list(df2['item_category_name'].unique())\n",
        "unique_categories.sort()\n",
        "simple_categories = list(map(lambda x: x.split('-')[0], unique_categories))\n",
        "simple_categories = list(map(lambda x: x.split('(')[0].rstrip(), simple_categories))\n",
        "category_dict = dict(zip(unique_categories, simple_categories))\n",
        "df2['simple_categories'] = df2['item_category_name'].map(category_dict)\n",
        "\n",
        "# Extracting city name from shop name\n",
        "unique_shops = df2['shop_name'].unique()\n",
        "unique_shops.sort()\n",
        "cities = unique_shops.copy()\n",
        "cities[:2] = list(map(lambda x: x[2:],cities[:2]))\n",
        "cities = list(map(lambda x: x.split(' ')[0],cities))\n",
        "cities[2] = cities[2][3:]\n",
        "cities = list(map(lambda x: x.capitalize(),cities))\n",
        "cities_dict = dict(zip(unique_shops, cities))\n",
        "df2['city'] = df2['shop_name'].map(cities_dict)\n",
        "\n",
        "# Extracting shop type from shop name\n",
        "types_list = list(map(lambda x: x.split()[1], unique_shops))\n",
        "type_dict = {'\"Sale\"':'None',\n",
        "             'Yakutsk':'Shopping Center',\n",
        "             '(Plekhanovskaya,':'None',\n",
        "             'MTRC':'TRC',\n",
        "             'Ordzhonikidze,':'None',\n",
        "             'Posad':'Shopping Center',\n",
        "             'Store':'None',\n",
        "             'TC':'TC',\n",
        "             'TK':'TK',\n",
        "             'TPC':'TPC',\n",
        "             'TRC':'TRC',\n",
        "             'TRK':'TRK',\n",
        "             'digital':'Digital',\n",
        "             'shopping':'Shopping Center',\n",
        "             'st.':'None',\n",
        "             'store':'None',\n",
        "             'trade':'None'}\n",
        "type_list = [*map(type_dict.get,types_list)]\n",
        "shop_type_dict = dict(zip(unique_shops, type_list))\n",
        "df2['shop_type'] = df2['shop_name'].map(shop_type_dict)\n",
        "\n",
        "# year\n",
        "df2['year'] = df2['date'].dt.year\n",
        "\n",
        "# month\n",
        "df2['month'] = df2['date'].dt.month\n",
        "\n",
        "# day\n",
        "df2['day'] = df2['date'].dt.day\n",
        "\n",
        "# week of year\n",
        "df2['week_of_year'] = df2['date'].dt.weekofyear\n",
        "\n",
        "# year week\n",
        "df2['year_week'] = df2['date'].dt.strftime('%Y-%W')\n",
        "\n",
        "# day of week\n",
        "df2['day_of_week'] = df2['date'].dt.weekday\n",
        "\n",
        "# week in timeline\n",
        "df2['week_tl'] = df2['date'].sub(df2['date'].min()).dt.days // 7 + 1\n",
        "\n",
        "# Creating the response variable 'sales' which represents the weekly sale of each store\n",
        "#week_sales_df = df2[['week_tl','shop_name','item_cnt_day']].groupby(['shop_name','week_tl']).sum().reset_index()\n",
        "#week_sales_df['dict'] = week_sales_df['shop_name'] + week_sales_df['week_tl'].astype(str) \n",
        "#df2['dict'] = df2['shop_name'] + df2['week_tl'].astype(str)\n",
        "#sales_dict = dict(zip(week_sales_df['dict'], week_sales_df['item_cnt_day']))\n",
        "#df2['sales'] = df2['dict'].map(sales_dict)\n",
        "#df2.drop('dict',axis=1,inplace=True)"
      ],
      "execution_count": null,
      "outputs": []
    },
    {
      "cell_type": "code",
      "metadata": {
        "id": "RSTyIM2SI_Uv"
      },
      "source": [
        "daily_sales_df = df2[['date','shop_name','item_cnt_day']].groupby(['shop_name','date']).sum().reset_index()\n",
        "daily_sales_df['dict'] = daily_sales_df['shop_name'] + daily_sales_df['date'].astype(str)\n",
        "df2['dict'] = df2['shop_name'] + df2['date'].astype(str)\n",
        "sales_dict = dict(zip(daily_sales_df['dict'], daily_sales_df['item_cnt_day']))\n",
        "df2['sales'] = df2['dict'].map(sales_dict)\n",
        "df2.drop('dict',axis=1,inplace=True)"
      ],
      "execution_count": null,
      "outputs": []
    },
    {
      "cell_type": "markdown",
      "metadata": {
        "id": "irS1PuhgXthJ"
      },
      "source": [
        "### 2.3.2. Holidays Dataframe"
      ]
    },
    {
      "cell_type": "code",
      "metadata": {
        "id": "0gND1lGuYvXV"
      },
      "source": [
        "d = {'jan.':1,\n",
        "     'Feb':2,\n",
        "     'mar.':3,\n",
        "     'May':5,\n",
        "     'jun.':6,\n",
        "     'nov.':11,\n",
        "     'Dec':12}\n",
        "holidays['Month'] = holidays['Date'].map(lambda x: x.split(' ')[0]).map(d)\n",
        "holidays['Day'] = holidays['Date'].map(lambda x: x.split(' ')[1]).astype(int)"
      ],
      "execution_count": null,
      "outputs": []
    },
    {
      "cell_type": "code",
      "metadata": {
        "id": "j7S5nJLwYMg8"
      },
      "source": [
        "aux1 = holidays[holidays['Type']=='National Holiday'][['Day','Month']]\n",
        "aux1 = pd.concat([pd.to_datetime(aux1.assign(Year=2013).loc[:, ['Year','Month','Day']]),\n",
        "                  pd.to_datetime(aux1.assign(Year=2014).loc[:, ['Year','Month','Day']]),\n",
        "                  pd.to_datetime(aux1.assign(Year=2015).loc[:, ['Year','Month','Day']])], ignore_index=True)\n",
        "aux1 = pd.DataFrame({'date':aux1,'holidays':np.ones(63)})\n",
        "holidays_dict = dict(zip(aux1['date'], aux1['holidays']))\n",
        "df2['holiday'] = df2['date'].map(holidays_dict)\n",
        "df2['holiday'].fillna(0,inplace=True)\n",
        "df2['holiday'] = df2['holiday'].astype(int)"
      ],
      "execution_count": null,
      "outputs": []
    },
    {
      "cell_type": "code",
      "metadata": {
        "id": "lILdM1lhMFau"
      },
      "source": [
        "df2.sample().T"
      ],
      "execution_count": null,
      "outputs": []
    },
    {
      "cell_type": "markdown",
      "metadata": {
        "id": "iklSe2GwFduN"
      },
      "source": [
        "# 3. Feature Filtering"
      ]
    },
    {
      "cell_type": "code",
      "metadata": {
        "id": "sSLBWQSN9GeF"
      },
      "source": [
        "df3 = df2.copy()"
      ],
      "execution_count": null,
      "outputs": []
    },
    {
      "cell_type": "markdown",
      "metadata": {
        "id": "f7qG4sOsFj68"
      },
      "source": [
        "## 3.1. Rows Filtering"
      ]
    },
    {
      "cell_type": "code",
      "metadata": {
        "id": "ypXhtxfAFg6z"
      },
      "source": [
        "df3 = df3[df3['sales'] > 0]"
      ],
      "execution_count": null,
      "outputs": []
    },
    {
      "cell_type": "markdown",
      "metadata": {
        "id": "0OZSL6nAGNrW"
      },
      "source": [
        "## 3.2. Columns Filtering"
      ]
    },
    {
      "cell_type": "code",
      "metadata": {
        "id": "pFwBvg8mGBgb"
      },
      "source": [
        "cols_drop = ['shop_id','item_id','item_category_id','date_block_num']\n",
        "df3.drop(cols_drop,axis=1,inplace=True)\n",
        "list(df3.columns)"
      ],
      "execution_count": null,
      "outputs": []
    },
    {
      "cell_type": "markdown",
      "metadata": {
        "id": "d_Bn8KbYrnSQ"
      },
      "source": [
        "# 4. Exploratory Data Analysis (EDA)"
      ]
    },
    {
      "cell_type": "code",
      "metadata": {
        "id": "9-2iS5zsJTEj"
      },
      "source": [
        "df4 = df3.copy()"
      ],
      "execution_count": null,
      "outputs": []
    },
    {
      "cell_type": "markdown",
      "metadata": {
        "id": "y6sPSNUsruU3"
      },
      "source": [
        "## 4.1. Univariate Analysis"
      ]
    },
    {
      "cell_type": "markdown",
      "metadata": {
        "id": "Qe4w1ECJryo5"
      },
      "source": [
        "### 4.1.1. Response Variable"
      ]
    },
    {
      "cell_type": "code",
      "metadata": {
        "id": "gJBh0A-3rszf"
      },
      "source": [
        "#@title Distribution Plot of Sales Variable\n",
        "plt.figure(figsize=(15,4))\n",
        "sns.distplot(df4['sales'],color=viridis)\n",
        "plt.show()"
      ],
      "execution_count": null,
      "outputs": []
    },
    {
      "cell_type": "markdown",
      "metadata": {
        "id": "J80Bbpf53MyR"
      },
      "source": [
        "### 4.1.2. Numerical Variables"
      ]
    },
    {
      "cell_type": "code",
      "metadata": {
        "id": "NYgWTFvB3pFj"
      },
      "source": [
        "num_attributes = df4.select_dtypes(include=['int64','float64'])\n",
        "cat_attributes = df4.select_dtypes(exclude=['int64','float64','datetime64[ns]'])"
      ],
      "execution_count": null,
      "outputs": []
    },
    {
      "cell_type": "code",
      "metadata": {
        "id": "70-6Zlpr6Sr-"
      },
      "source": [
        "#@title Histograms of all Original Numerical Variables\n",
        "num_attributes.hist(bins=25,figsize=(8,8),color=viridis);"
      ],
      "execution_count": null,
      "outputs": []
    },
    {
      "cell_type": "markdown",
      "metadata": {
        "id": "x6w8vdks4NUz"
      },
      "source": [
        "### 4.1.3. Categorical Variables"
      ]
    },
    {
      "cell_type": "code",
      "metadata": {
        "id": "hI7z7fSP4Me5",
        "cellView": "form"
      },
      "source": [
        "#@title Barplot and countplot for most frequent cities and shop_types\n",
        "f, axes = plt.subplots(2,2,figsize=(15,12))\n",
        "\n",
        "# city\n",
        "aux1 = sorted(list(df4['city'].value_counts().index)[:5])\n",
        "sns.countplot(y = df4[df4['city'].isin(aux1)]['city'],\n",
        "              order = aux1,\n",
        "              palette = 'viridis',\n",
        "              ax = axes[0,0])\n",
        "axes[0,0].xaxis.set_major_formatter(tick.FuncFormatter(format_number))\n",
        "\n",
        "sns.barplot(data = df4[df4['city'].isin(aux1)][['city','sales']].groupby('city').mean().reset_index(),\n",
        "            y = 'city',\n",
        "            x = 'sales',\n",
        "            palette = 'viridis',\n",
        "            order = aux1,\n",
        "            ax = axes[0,1])\n",
        "\n",
        "# shop_type\n",
        "aux2 = sorted(list(df4['shop_type'].unique()))\n",
        "sns.countplot(y = df4['shop_type'],\n",
        "              order = aux2,\n",
        "              palette = 'viridis',\n",
        "              ax = axes[1,0])\n",
        "axes[1,0].xaxis.set_major_formatter(tick.FuncFormatter(format_number))\n",
        "\n",
        "sns.barplot(data = df4[['shop_type','sales']].groupby('shop_type').mean().reset_index(),\n",
        "            y = 'shop_type',\n",
        "            x = 'sales',\n",
        "            palette = 'viridis',\n",
        "            order = aux2,\n",
        "            ax = axes[1,1])\n",
        "\n",
        "plt.tight_layout()\n",
        "plt.show()"
      ],
      "execution_count": null,
      "outputs": []
    },
    {
      "cell_type": "code",
      "metadata": {
        "id": "NZGjr9dtEUGX",
        "cellView": "form"
      },
      "source": [
        "#@title Ridgeline Plot of Sales in different cities\n",
        "joyplot(\n",
        "    data=df4[df4['city'].isin(aux1)][['sales','city']],\n",
        "    by='city',\n",
        "    colormap=plt.cm.viridis,\n",
        "    figsize=(10,6))\n",
        "\n",
        "plt.show()"
      ],
      "execution_count": null,
      "outputs": []
    },
    {
      "cell_type": "code",
      "metadata": {
        "cellView": "form",
        "id": "J_I-vu_W3c5h"
      },
      "source": [
        "#@title Ridgeline Plot of Sales in different shop types\n",
        "joyplot(\n",
        "    data=df4[['sales','shop_type']],\n",
        "    by='shop_type',\n",
        "    colormap=plt.cm.viridis,\n",
        "    figsize=(10,6))\n",
        "\n",
        "plt.show()"
      ],
      "execution_count": null,
      "outputs": []
    },
    {
      "cell_type": "markdown",
      "metadata": {
        "id": "ilxyMTNcKXT3"
      },
      "source": [
        "## 4.2. Bivariate Analysis"
      ]
    },
    {
      "cell_type": "markdown",
      "metadata": {
        "id": "_V6p278uKaI3"
      },
      "source": [
        "### $H_{1}:$ Stores should sell more over the years\n",
        "**FALSE** $\\Rightarrow$ Stores sell LESS OVER THE YEARS"
      ]
    },
    {
      "cell_type": "code",
      "metadata": {
        "id": "HqD8dOGpDNUA",
        "cellView": "form"
      },
      "source": [
        "#@title Plot and Correlation of Sales x Years\n",
        "plt.figure(figsize=(18,5))\n",
        "\n",
        "aux1 = df4[['year','sales']].groupby('year').sum().reset_index()\n",
        "\n",
        "plt.subplot(1,3,1)\n",
        "g1 = sns.barplot(x='year',y='sales',data=aux1,palette='viridis')\n",
        "g1.yaxis.set_major_formatter(tick.FuncFormatter(format_number))\n",
        "\n",
        "plt.subplot(1,3,2)\n",
        "g2 = sns.regplot(x='year',y='sales',data=aux1,color=viridis)\n",
        "g2.yaxis.set_major_formatter(tick.FuncFormatter(format_number))\n",
        "g2.set_xticks([2013,2014,2015])\n",
        "\n",
        "plt.subplot(1,3,3)\n",
        "sns.heatmap(aux1.corr(method='pearson'),annot=True,cmap='coolwarm')\n",
        "\n",
        "plt.show()"
      ],
      "execution_count": null,
      "outputs": []
    },
    {
      "cell_type": "markdown",
      "metadata": {
        "id": "qV86c3exH3bA"
      },
      "source": [
        "### $H_{2}:$ Stores should sell more in the second semester\n",
        "**FALSE** $\\Rightarrow$ Stores sell MORE on the SECOND SEMESTER"
      ]
    },
    {
      "cell_type": "code",
      "metadata": {
        "cellView": "form",
        "id": "zCwUuXowEAeG"
      },
      "source": [
        "#@title Plot and Correlation of Sales x Months\n",
        "plt.figure(figsize=(18,5))\n",
        "\n",
        "aux1 = df4[['month','sales']].groupby('month').sum().reset_index()\n",
        "\n",
        "plt.subplot(1,3,1)\n",
        "g1 = sns.barplot(x='month',y='sales',data=aux1,palette='viridis')\n",
        "g1.yaxis.set_major_formatter(tick.FuncFormatter(format_number))\n",
        "\n",
        "plt.subplot(1,3,2)\n",
        "g2 = sns.regplot(x='month',y='sales',data=aux1,color=viridis)\n",
        "g2.yaxis.set_major_formatter(tick.FuncFormatter(format_number))\n",
        "\n",
        "plt.subplot(1,3,3)\n",
        "sns.heatmap(aux1.corr(method='pearson'),annot=True,cmap='coolwarm',vmax=1,vmin=-1)\n",
        "\n",
        "plt.show()"
      ],
      "execution_count": null,
      "outputs": []
    },
    {
      "cell_type": "markdown",
      "metadata": {
        "id": "MB-F-a4mMFA_"
      },
      "source": [
        "### $H_{3}:$ Stores should sell more in the first half of the month\n",
        "**FALSE** $\\Rightarrow$ Stores sell MORE after the 15th DAY"
      ]
    },
    {
      "cell_type": "code",
      "metadata": {
        "cellView": "form",
        "id": "4uCu4HVTIHqB"
      },
      "source": [
        "#@title Plot and Correlation of Sales x Days\n",
        "plt.figure(figsize=(18,10))\n",
        "\n",
        "aux1 = df4[['day','sales']].groupby('day').sum().reset_index()\n",
        "\n",
        "plt.subplot(2,2,1)\n",
        "g1 = sns.barplot(x='day',y='sales',data=aux1,palette='viridis')\n",
        "g1.yaxis.set_major_formatter(tick.FuncFormatter(format_number))\n",
        "\n",
        "\n",
        "plt.subplot(2,2,2)\n",
        "g2 = sns.regplot(x='day',y='sales',data=aux1,color=viridis)\n",
        "g2.yaxis.set_major_formatter(tick.FuncFormatter(format_number))\n",
        "\n",
        "\n",
        "plt.subplot(2,2,3)\n",
        "sns.heatmap(aux1.corr(method='pearson'),annot=True,cmap='coolwarm',vmax=1,vmin=-1)\n",
        "\n",
        "plt.subplot(2,2,4)\n",
        "aux1['before_after'] = aux1['day'].apply(lambda x: 'before_15th' if x <=15 else 'after_15th')\n",
        "aux2 = aux1[['before_after','sales']].groupby('before_after').sum().reset_index()\n",
        "g4 = sns.barplot(x='before_after',y='sales',data=aux2,palette='viridis')\n",
        "g4.yaxis.set_major_formatter(tick.FuncFormatter(format_number))"
      ],
      "execution_count": null,
      "outputs": []
    },
    {
      "cell_type": "markdown",
      "metadata": {
        "id": "5fhyHGw_Nadt"
      },
      "source": [
        "### $H_{4}:$ Stores should sell more on weekends\n",
        "**TRUE** $\\Rightarrow$ Stores sell MORE on weekends"
      ]
    },
    {
      "cell_type": "code",
      "metadata": {
        "id": "AyQJVwDhMajm",
        "cellView": "form"
      },
      "source": [
        "#@title Plot and Correlation of Sales x Day of Week\n",
        "plt.figure(figsize=(18,5))\n",
        "\n",
        "aux1 = df4[['day_of_week','sales']].groupby('day_of_week').sum().reset_index()\n",
        "\n",
        "plt.subplot(1,3,1)\n",
        "g1 = sns.barplot(x='day_of_week',y='sales',data=aux1,palette='viridis')\n",
        "g1.yaxis.set_major_formatter(tick.FuncFormatter(format_number))\n",
        "\n",
        "plt.subplot(1,3,2)\n",
        "g2 = sns.regplot(x='day_of_week',y='sales',data=aux1,color=viridis)\n",
        "g2.yaxis.set_major_formatter(tick.FuncFormatter(format_number))\n",
        "\n",
        "plt.subplot(1,3,3)\n",
        "sns.heatmap(aux1.corr(method='pearson'),annot=True,cmap='coolwarm',vmax=1,vmin=-1)\n",
        "\n",
        "plt.show()"
      ],
      "execution_count": null,
      "outputs": []
    },
    {
      "cell_type": "markdown",
      "metadata": {
        "id": "BpM35l9gWR91"
      },
      "source": [
        "### $H_{5}:$ Store located in Moscow should sell more\n",
        "**TRUE** $\\Rightarrow$ Stores located in Moscow SELL MORE"
      ]
    },
    {
      "cell_type": "code",
      "metadata": {
        "id": "3IPOBJoZqiiI"
      },
      "source": [
        "aux1 = df4[df4['city']!='Exit']\n",
        "aux2 = pd.concat([aux1[['sales','city']].groupby('city').sum().reset_index(),\n",
        "                 aux1[['sales','city']].groupby('city').mean().reset_index()['sales']],\n",
        "                 axis=1)\n",
        "aux2.columns = ['city','total_sales','mean_sales']\n",
        "aux2.sort_values('mean_sales',ascending=False,inplace=True)"
      ],
      "execution_count": null,
      "outputs": []
    },
    {
      "cell_type": "code",
      "metadata": {
        "id": "44QWxK9CP-Jd",
        "cellView": "form"
      },
      "source": [
        "#@title Hypothesis 5 Plots\n",
        "\n",
        "fig = plt.figure(constrained_layout=True,figsize=(16,10))\n",
        "spec = fig.add_gridspec(nrows=2,ncols=3)\n",
        "\n",
        "axes1 = fig.add_subplot(spec[0:, 0])\n",
        "# Barplot - Average Sales\n",
        "g1 = sns.barplot(data=aux2,y='city',x='mean_sales',ax=axes1,palette='viridis',label='Average Sales')\n",
        "g1.yaxis.set_major_formatter(tick.FuncFormatter(format_number))\n",
        "\n",
        "# Lineplot - Total Sales \n",
        "axes2 = plt.twiny()\n",
        "g2 = sns.pointplot(x='total_sales', y='city',ax=axes2 ,data=aux2,color='r',label='Total Sales').set(xticklabels=[])\n",
        "plt.title('Total Sales Lineplot and Average Sales Barplot')\n",
        "\n",
        "# Timeline of Sales\n",
        "axes3 = fig.add_subplot(spec[0, 1:])\n",
        "aux1['Moscow'] = aux1['city'].map(lambda x: 'Yes' if x=='Moscow' else 'No')\n",
        "aux3 = aux1[['date','Moscow','sales']].groupby(['date','Moscow']).mean().reset_index()\n",
        "sns.lineplot(data=aux3,x='date',y='sales',hue='Moscow',palette='viridis',ax=axes3,hue_order=['Yes','No'])\n",
        "\n",
        "# Correlation Heatmap\n",
        "axes4 = fig.add_subplot(spec[1:, 1:])\n",
        "city_dict = dict(zip(aux1['city'].unique(),list(range(29,-1,-1))))\n",
        "aux1['city_mapped'] = aux1.city.map(city_dict)\n",
        "g4 = sns.heatmap(aux1[['city_mapped','sales']].corr(method='pearson'),ax=axes4,annot=True,cmap='coolwarm',vmax=1,vmin=-1)\n",
        "\n",
        "plt.show()"
      ],
      "execution_count": null,
      "outputs": []
    },
    {
      "cell_type": "markdown",
      "metadata": {
        "id": "pgkPLIUoakdg"
      },
      "source": [
        "### $H_{6}:$ Shopping Center type stores should sell more\n",
        "**FALSE** $\\Rightarrow$ Stores with 'TC shop type' SELLS MORE than Shopping Center\n"
      ]
    },
    {
      "cell_type": "code",
      "metadata": {
        "id": "N99diEBvakww"
      },
      "source": [
        "aux1 = pd.concat([df4[['sales','shop_type']].groupby('shop_type').sum().reset_index(),\n",
        "                 df4[['sales','shop_type']].groupby('shop_type').mean().reset_index()['sales']],\n",
        "                 axis=1)\n",
        "aux1.columns = ['shop_type','total_sales','mean_sales']\n",
        "aux1.sort_values('mean_sales',ascending=False,inplace=True)"
      ],
      "execution_count": null,
      "outputs": []
    },
    {
      "cell_type": "code",
      "metadata": {
        "id": "13yQ3w_FcQUv"
      },
      "source": [
        "#@title Hypothesis 6 Plots\n",
        "\n",
        "fig = plt.figure(constrained_layout=True,figsize=(16,10))\n",
        "spec = fig.add_gridspec(nrows=2,ncols=3)\n",
        "\n",
        "# Barplot - Average Sales\n",
        "axes1 = fig.add_subplot(spec[0:, 0])\n",
        "g1 = sns.barplot(data=aux1,y='shop_type',x='mean_sales',ax=axes1,palette='viridis',label='Average Sales')\n",
        "g1.yaxis.set_major_formatter(tick.FuncFormatter(format_number))\n",
        "\n",
        "# Lineplot - Total Sales \n",
        "axes2 = plt.twiny()\n",
        "g2 = sns.pointplot(x='total_sales', y='shop_type',ax=axes2 ,data=aux1,color='r',label='Total Sales').set(xticklabels=[])\n",
        "plt.title('Average Sales Barplot and Total Sales Lineplot')\n",
        "\n",
        "# Timeline of Sales\n",
        "axes3 = fig.add_subplot(spec[0, 1:])\n",
        "df4['Shopping Center'] = df4['shop_type'].map(lambda x: 'Yes' if x=='Shopping Center' else 'No')\n",
        "aux2 = df4[['date','Shopping Center','sales']].groupby(['date','Shopping Center']).mean().reset_index()\n",
        "sns.lineplot(data=aux2,x='date',y='sales',hue='Shopping Center',palette='viridis',ax=axes3,hue_order=['Yes','No'])\n",
        "\n",
        "# Correlation Heatmap\n",
        "axes4 = fig.add_subplot(spec[1:, 1:])\n",
        "type_dict = dict(zip(aux1['shop_type'].unique(),list(range(8,-1,-1))))\n",
        "df4['type_mapped'] = df4.shop_type.map(type_dict)\n",
        "g4 = sns.heatmap(df4[['type_mapped','sales']].corr(method='pearson'),ax=axes4,annot=True,cmap='coolwarm',vmax=1,vmin=-1)\n",
        "\n",
        "df4.drop(['type_mapped','Shopping Center'],axis=1,inplace=True)\n",
        "plt.show()"
      ],
      "execution_count": null,
      "outputs": []
    },
    {
      "cell_type": "markdown",
      "metadata": {
        "id": "lNUyy9jhD8jd"
      },
      "source": [
        "### $H_{7}:$ Stores should sell less on holidays\n",
        "**FALSE** $\\Rightarrow$ There isn't a correlation between sales on and off holidays\n"
      ]
    },
    {
      "cell_type": "code",
      "metadata": {
        "id": "RDAKojkrc-LI",
        "cellView": "form"
      },
      "source": [
        "#@title Hypothesis 7 Plots\n",
        "\n",
        "plt.figure(figsize=(16,5))\n",
        "\n",
        "aux1 = df4[['holiday','sales']].groupby('holiday')['sales'].agg(['sum','mean']).reset_index()\n",
        "aux1['holiday_mapped'] = aux1['holiday'].replace({0:'No',1:'Yes'})\n",
        "\n",
        "plt.subplot(1,3,1)\n",
        "g1 = sns.barplot(data=aux1, x='holiday_mapped', y='sum',palette='viridis')\n",
        "g1.yaxis.set_major_formatter(tick.FuncFormatter(format_number))\n",
        "\n",
        "plt.subplot(1,3,2)\n",
        "g2 = sns.barplot(data=aux1, x='holiday_mapped', y='mean',palette='viridis')\n",
        "\n",
        "plt.subplot(1,3,3)\n",
        "g3 = sns.heatmap(df4[['holiday','sales']].corr(),cmap='coolwarm',vmax=1,vmin=-1,annot=True)"
      ],
      "execution_count": null,
      "outputs": []
    },
    {
      "cell_type": "markdown",
      "metadata": {
        "id": "HwYNrJ_6OXwR"
      },
      "source": [
        "### 4.2.1. Summary of Hypothesis"
      ]
    },
    {
      "cell_type": "code",
      "metadata": {
        "cellView": "form",
        "id": "shMzPeFoFi1k"
      },
      "source": [
        "#@title Relevance of the Conclusions of Hypothesis\n",
        "tab = [['Hypothesis','Conclusion','Relevance'],\n",
        "       ['H1','False','High'],\n",
        "       ['H2','False','Low'],\n",
        "       ['H3','False','Low'],\n",
        "       ['H4','True','High'],\n",
        "       ['H5','True','Medium'],\n",
        "       ['H6','False','Medium'],\n",
        "       ['H7','False','Low']]\n",
        "print(tabulate(tab,headers='firstrow'))"
      ],
      "execution_count": null,
      "outputs": []
    },
    {
      "cell_type": "markdown",
      "metadata": {
        "id": "ldiENguIOGva"
      },
      "source": [
        "## 4.3. Multivariate Analysis"
      ]
    },
    {
      "cell_type": "markdown",
      "metadata": {
        "id": "QKZL1AQZOP1Y"
      },
      "source": [
        "\n",
        "### 4.3.1. Numerical Attributes"
      ]
    },
    {
      "cell_type": "code",
      "metadata": {
        "id": "6CuBiUJNO66T"
      },
      "source": [
        "plt.figure(figsize=(12,9))\n",
        "correlation = num_attributes.corr(method='pearson')\n",
        "sns.heatmap(correlation,annot=True,cmap='coolwarm',vmin=-1, vmax=1)\n",
        "plt.show()"
      ],
      "execution_count": null,
      "outputs": []
    },
    {
      "cell_type": "markdown",
      "metadata": {
        "id": "5Q7fDe82QDoh"
      },
      "source": [
        "### 4.3.2. Categorical Attributes"
      ]
    },
    {
      "cell_type": "code",
      "metadata": {
        "id": "TZBEqc_zRLbZ"
      },
      "source": [
        "a = df4.select_dtypes(include=object)\n",
        "categories = ['item_name','item_category_name','shop_name','simple_categories','city','shop_type']\n",
        "cramer_list = []\n",
        "#for x in categories:\n",
        "#  for y in categories:\n",
        "#    cramer_list.append(cramer_v(a[x],a[y]))\n",
        "cramer_v(a['item_name'],a['shop_name'])"
      ],
      "execution_count": null,
      "outputs": []
    },
    {
      "cell_type": "code",
      "metadata": {
        "id": "h5vVO9smOYIp"
      },
      "source": [
        "a = df4.select_dtypes(include=object)\n",
        "a"
      ],
      "execution_count": null,
      "outputs": []
    },
    {
      "cell_type": "code",
      "metadata": {
        "id": "L_HoDD4yQI1n"
      },
      "source": [
        ""
      ],
      "execution_count": null,
      "outputs": []
    }
  ]
}