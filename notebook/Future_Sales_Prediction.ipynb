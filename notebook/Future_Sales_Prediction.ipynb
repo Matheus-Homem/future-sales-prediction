{
  "nbformat": 4,
  "nbformat_minor": 0,
  "metadata": {
    "colab": {
      "name": "Future Sales Prediction.ipynb",
      "provenance": [],
      "collapsed_sections": [],
      "authorship_tag": "ABX9TyPL9kUJm3tUjLhQTDbNcqV+",
      "include_colab_link": true
    },
    "kernelspec": {
      "name": "python3",
      "display_name": "Python 3"
    },
    "language_info": {
      "name": "python"
    }
  },
  "cells": [
    {
      "cell_type": "markdown",
      "metadata": {
        "id": "view-in-github",
        "colab_type": "text"
      },
      "source": [
        "<a href=\"https://colab.research.google.com/github/Matheus-Homem/future-sales-prediction/blob/main/notebook/Future_Sales_Prediction.ipynb\" target=\"_parent\"><img src=\"https://colab.research.google.com/assets/colab-badge.svg\" alt=\"Open In Colab\"/></a>"
      ]
    },
    {
      "cell_type": "markdown",
      "metadata": {
        "id": "3o4smiNcsKX1"
      },
      "source": [
        "# 0. Imports"
      ]
    },
    {
      "cell_type": "markdown",
      "metadata": {
        "id": "VHkH_tzdyxBi"
      },
      "source": [
        "## 0.1. Libraries"
      ]
    },
    {
      "cell_type": "code",
      "metadata": {
        "id": "DfOkpi50sCtv"
      },
      "source": [
        "import pandas as pd\n",
        "import numpy as np\n",
        "import seaborn as sns\n",
        "sns.set_style('darkgrid')"
      ],
      "execution_count": 21,
      "outputs": []
    },
    {
      "cell_type": "code",
      "metadata": {
        "id": "e4nJ6dGXtI8O"
      },
      "source": [
        "import warnings\n",
        "warnings.filterwarnings('ignore')"
      ],
      "execution_count": 22,
      "outputs": []
    },
    {
      "cell_type": "markdown",
      "metadata": {
        "id": "TVqXmvb4tQ3D"
      },
      "source": [
        "## 0.2. Loading Data"
      ]
    },
    {
      "cell_type": "code",
      "metadata": {
        "id": "Re7dYxQUtO5u"
      },
      "source": [
        "# Importing data from .csv\n",
        "item_categories = pd.read_csv(\"https://github.com/Matheus-Homem/future-sales-prediction/raw/main/data/item_categories.csv\")\n",
        "items = pd.read_csv(\"https://github.com/Matheus-Homem/future-sales-prediction/raw/main/data/items.csv\")\n",
        "sales_train = pd.read_csv(\"https://github.com/Matheus-Homem/future-sales-prediction/raw/main/data/sales_train.csv\")\n",
        "shops = pd.read_csv(\"https://github.com/Matheus-Homem/future-sales-prediction/raw/main/data/shops.csv\")"
      ],
      "execution_count": 23,
      "outputs": []
    },
    {
      "cell_type": "code",
      "metadata": {
        "colab": {
          "base_uri": "https://localhost:8080/"
        },
        "id": "JHEEC-jEvpJy",
        "outputId": "51db2345-3876-4623-f21d-3f6072748843"
      },
      "source": [
        "# First row of 'item_categories'\n",
        "item_categories.loc[0]"
      ],
      "execution_count": 24,
      "outputs": [
        {
          "output_type": "execute_result",
          "data": {
            "text/plain": [
              "item_category_name    PC - Гарнитуры/Наушники\n",
              "item_category_id                            0\n",
              "Name: 0, dtype: object"
            ]
          },
          "metadata": {},
          "execution_count": 24
        }
      ]
    },
    {
      "cell_type": "code",
      "metadata": {
        "colab": {
          "base_uri": "https://localhost:8080/"
        },
        "id": "o87vFi7pu7re",
        "outputId": "f9970ef6-203a-4cd3-efdf-447b374aa8ef"
      },
      "source": [
        "# First row of 'items'\n",
        "items.loc[0]"
      ],
      "execution_count": 25,
      "outputs": [
        {
          "output_type": "execute_result",
          "data": {
            "text/plain": [
              "item_name           ! ВО ВЛАСТИ НАВАЖДЕНИЯ (ПЛАСТ.)         D\n",
              "item_id                                                     0\n",
              "item_category_id                                           40\n",
              "Name: 0, dtype: object"
            ]
          },
          "metadata": {},
          "execution_count": 25
        }
      ]
    },
    {
      "cell_type": "code",
      "metadata": {
        "colab": {
          "base_uri": "https://localhost:8080/"
        },
        "id": "gjrpgsTAvzPS",
        "outputId": "4e42f9fb-5df0-49b7-f49f-32586cdc88d2"
      },
      "source": [
        "# First row of 'sales_train'\n",
        "sales_train.loc[0]"
      ],
      "execution_count": 26,
      "outputs": [
        {
          "output_type": "execute_result",
          "data": {
            "text/plain": [
              "date              02.01.2013\n",
              "date_block_num             0\n",
              "shop_id                   59\n",
              "item_id                22154\n",
              "item_price               999\n",
              "item_cnt_day               1\n",
              "Name: 0, dtype: object"
            ]
          },
          "metadata": {},
          "execution_count": 26
        }
      ]
    },
    {
      "cell_type": "code",
      "metadata": {
        "colab": {
          "base_uri": "https://localhost:8080/"
        },
        "id": "BgjyldMBxQeK",
        "outputId": "cf35de28-df91-4abf-e335-94e79b42f31c"
      },
      "source": [
        "# First row of 'shops'\n",
        "shops.loc[0]"
      ],
      "execution_count": 27,
      "outputs": [
        {
          "output_type": "execute_result",
          "data": {
            "text/plain": [
              "shop_name    !Якутск Орджоникидзе, 56 фран\n",
              "shop_id                                  0\n",
              "Name: 0, dtype: object"
            ]
          },
          "metadata": {},
          "execution_count": 27
        }
      ]
    },
    {
      "cell_type": "markdown",
      "metadata": {
        "id": "r2lOF9P-zEYQ"
      },
      "source": [
        "## 0.3. Helper Functions"
      ]
    },
    {
      "cell_type": "code",
      "metadata": {
        "id": "TKC-BMSQx1uQ"
      },
      "source": [
        ""
      ],
      "execution_count": null,
      "outputs": []
    },
    {
      "cell_type": "markdown",
      "metadata": {
        "id": "1vKcpaXKzJCA"
      },
      "source": [
        "# 1. Data Description"
      ]
    },
    {
      "cell_type": "markdown",
      "metadata": {
        "id": "oeHxgdDNzSfZ"
      },
      "source": [
        "## 1.1. Merging Tables"
      ]
    },
    {
      "cell_type": "code",
      "metadata": {
        "colab": {
          "base_uri": "https://localhost:8080/",
          "height": 359
        },
        "id": "uY3eZDwKzM3b",
        "outputId": "94e584df-437e-4c97-a2d0-d9ba06f01684"
      },
      "source": [
        "df1 = pd.merge(items,item_categories,on='item_category_id')\n",
        "df1 = pd.merge(sales_train,df1,on='item_id')\n",
        "df1 = pd.merge(df1,shops,on='shop_id')\n",
        "df1.sample().T"
      ],
      "execution_count": 28,
      "outputs": [
        {
          "output_type": "execute_result",
          "data": {
            "text/html": [
              "<div>\n",
              "<style scoped>\n",
              "    .dataframe tbody tr th:only-of-type {\n",
              "        vertical-align: middle;\n",
              "    }\n",
              "\n",
              "    .dataframe tbody tr th {\n",
              "        vertical-align: top;\n",
              "    }\n",
              "\n",
              "    .dataframe thead th {\n",
              "        text-align: right;\n",
              "    }\n",
              "</style>\n",
              "<table border=\"1\" class=\"dataframe\">\n",
              "  <thead>\n",
              "    <tr style=\"text-align: right;\">\n",
              "      <th></th>\n",
              "      <th>2867126</th>\n",
              "    </tr>\n",
              "  </thead>\n",
              "  <tbody>\n",
              "    <tr>\n",
              "      <th>date</th>\n",
              "      <td>02.01.2015</td>\n",
              "    </tr>\n",
              "    <tr>\n",
              "      <th>date_block_num</th>\n",
              "      <td>24</td>\n",
              "    </tr>\n",
              "    <tr>\n",
              "      <th>shop_id</th>\n",
              "      <td>48</td>\n",
              "    </tr>\n",
              "    <tr>\n",
              "      <th>item_id</th>\n",
              "      <td>20448</td>\n",
              "    </tr>\n",
              "    <tr>\n",
              "      <th>item_price</th>\n",
              "      <td>399</td>\n",
              "    </tr>\n",
              "    <tr>\n",
              "      <th>item_cnt_day</th>\n",
              "      <td>1</td>\n",
              "    </tr>\n",
              "    <tr>\n",
              "      <th>item_name</th>\n",
              "      <td>Фигурка Cut the Rope Ом-Ном 10 см</td>\n",
              "    </tr>\n",
              "    <tr>\n",
              "      <th>item_category_id</th>\n",
              "      <td>72</td>\n",
              "    </tr>\n",
              "    <tr>\n",
              "      <th>item_category_name</th>\n",
              "      <td>Подарки - Фигурки</td>\n",
              "    </tr>\n",
              "    <tr>\n",
              "      <th>shop_name</th>\n",
              "      <td>Томск ТРЦ \"Изумрудный Город\"</td>\n",
              "    </tr>\n",
              "  </tbody>\n",
              "</table>\n",
              "</div>"
            ],
            "text/plain": [
              "                                              2867126\n",
              "date                                       02.01.2015\n",
              "date_block_num                                     24\n",
              "shop_id                                            48\n",
              "item_id                                         20448\n",
              "item_price                                        399\n",
              "item_cnt_day                                        1\n",
              "item_name           Фигурка Cut the Rope Ом-Ном 10 см\n",
              "item_category_id                                   72\n",
              "item_category_name                  Подарки - Фигурки\n",
              "shop_name                Томск ТРЦ \"Изумрудный Город\""
            ]
          },
          "metadata": {},
          "execution_count": 28
        }
      ]
    },
    {
      "cell_type": "markdown",
      "metadata": {
        "id": "GCqopFbb1zg0"
      },
      "source": [
        "## 1.2. Data Dimensions"
      ]
    },
    {
      "cell_type": "code",
      "metadata": {
        "colab": {
          "base_uri": "https://localhost:8080/"
        },
        "id": "ztahC8hh0vyx",
        "outputId": "dfa3b8a1-73f8-4bc4-f46f-dd8667d64fd2"
      },
      "source": [
        "print('Number of Rows: {:,}'.format(df1.shape[0]))\n",
        "print('Number of Columns: ',df1.shape[1])"
      ],
      "execution_count": 30,
      "outputs": [
        {
          "output_type": "stream",
          "name": "stdout",
          "text": [
            "Number of Rows: 2,935,849\n",
            "Number of Columns:  10\n"
          ]
        }
      ]
    },
    {
      "cell_type": "markdown",
      "metadata": {
        "id": "r4uA0QDV21l5"
      },
      "source": [
        "## 1.3. Data Types"
      ]
    },
    {
      "cell_type": "code",
      "metadata": {
        "colab": {
          "base_uri": "https://localhost:8080/"
        },
        "id": "iUMP7ILQ15rI",
        "outputId": "7706429e-ac4e-4337-90e1-b68710fbc774"
      },
      "source": [
        "df1.dtypes"
      ],
      "execution_count": 31,
      "outputs": [
        {
          "output_type": "execute_result",
          "data": {
            "text/plain": [
              "date                   object\n",
              "date_block_num          int64\n",
              "shop_id                 int64\n",
              "item_id                 int64\n",
              "item_price            float64\n",
              "item_cnt_day          float64\n",
              "item_name              object\n",
              "item_category_id        int64\n",
              "item_category_name     object\n",
              "shop_name              object\n",
              "dtype: object"
            ]
          },
          "metadata": {},
          "execution_count": 31
        }
      ]
    },
    {
      "cell_type": "markdown",
      "metadata": {
        "id": "SjgHBpW-3Trn"
      },
      "source": [
        "## 1.4. Change Data Types"
      ]
    },
    {
      "cell_type": "code",
      "metadata": {
        "id": "PGeYx5yG3I0I"
      },
      "source": [
        "df1['date'] = pd.to_datetime(df1['date'])"
      ],
      "execution_count": 37,
      "outputs": []
    },
    {
      "cell_type": "markdown",
      "metadata": {
        "id": "uhsVF-hD4wQh"
      },
      "source": [
        "## 1.5. NA Checking"
      ]
    },
    {
      "cell_type": "code",
      "metadata": {
        "colab": {
          "base_uri": "https://localhost:8080/"
        },
        "id": "iRc0hD0p4h2F",
        "outputId": "674ce607-4ad1-4d73-dbf5-7a973c7049e4"
      },
      "source": [
        "df1.isna().sum()"
      ],
      "execution_count": 38,
      "outputs": [
        {
          "output_type": "execute_result",
          "data": {
            "text/plain": [
              "date                  0\n",
              "date_block_num        0\n",
              "shop_id               0\n",
              "item_id               0\n",
              "item_price            0\n",
              "item_cnt_day          0\n",
              "item_name             0\n",
              "item_category_id      0\n",
              "item_category_name    0\n",
              "shop_name             0\n",
              "dtype: int64"
            ]
          },
          "metadata": {},
          "execution_count": 38
        }
      ]
    },
    {
      "cell_type": "markdown",
      "metadata": {
        "id": "DlIX288p5Hrn"
      },
      "source": [
        "## 1.6. Fillout NA"
      ]
    },
    {
      "cell_type": "markdown",
      "metadata": {
        "id": "nqxJZBAe5KQ_"
      },
      "source": [
        "- None of the columns have null values;"
      ]
    },
    {
      "cell_type": "markdown",
      "metadata": {
        "id": "CbOcge6O5bTX"
      },
      "source": [
        "## 1.7. Descriptive Statistical"
      ]
    },
    {
      "cell_type": "code",
      "metadata": {
        "id": "jjoKZTKK47Ez"
      },
      "source": [
        "num_attributes = df1.select_dtypes(include=['int64','float64'])\n",
        "cat_attributes = df1.select_dtypes(exclude=['int64','float64','datetime64[ns]'])"
      ],
      "execution_count": 39,
      "outputs": []
    },
    {
      "cell_type": "markdown",
      "metadata": {
        "id": "JkE4KeSq5j4p"
      },
      "source": [
        "### 1.7.1. Numerical Attributes"
      ]
    },
    {
      "cell_type": "code",
      "metadata": {
        "id": "VnB8HO8J5i0e"
      },
      "source": [
        "# Central Tendency - mean, median\n",
        "ct1 = pd.DataFrame(num_attributes.apply(np.mean)).T\n",
        "ct2 = pd.DataFrame(num_attributes.apply(np.median)).T\n",
        "\n",
        "# Dispersion - std, min, max, range, skew, kurtosis\n",
        "d1 = pd.DataFrame(num_attributes.apply(np.std)).T\n",
        "d2 = pd.DataFrame(num_attributes.apply(min)).T\n",
        "d3 = pd.DataFrame(num_attributes.apply(max)).T\n",
        "d4 = pd.DataFrame(num_attributes.apply(lambda x: x.max() - x.min())).T\n",
        "d5 = pd.DataFrame(num_attributes.apply(lambda x: x.skew())).T\n",
        "d6 = pd.DataFrame(num_attributes.apply(lambda x: x.kurtosis())).T\n",
        "\n",
        "# Contacatenate\n",
        "n = pd.concat([d2,d3,d4,ct1,ct2,d1,d5,d6]).T.reset_index()\n",
        "n.columns = ['Attributes','Min','Max','Range','Mean','Median','Std','Skew','Kurtosis']"
      ],
      "execution_count": 40,
      "outputs": []
    },
    {
      "cell_type": "code",
      "metadata": {
        "colab": {
          "base_uri": "https://localhost:8080/",
          "height": 235
        },
        "id": "5S49YqL95q45",
        "outputId": "74f52c36-c448-4b29-8731-6adb5ab08fde"
      },
      "source": [
        "n"
      ],
      "execution_count": 41,
      "outputs": [
        {
          "output_type": "execute_result",
          "data": {
            "text/html": [
              "<div>\n",
              "<style scoped>\n",
              "    .dataframe tbody tr th:only-of-type {\n",
              "        vertical-align: middle;\n",
              "    }\n",
              "\n",
              "    .dataframe tbody tr th {\n",
              "        vertical-align: top;\n",
              "    }\n",
              "\n",
              "    .dataframe thead th {\n",
              "        text-align: right;\n",
              "    }\n",
              "</style>\n",
              "<table border=\"1\" class=\"dataframe\">\n",
              "  <thead>\n",
              "    <tr style=\"text-align: right;\">\n",
              "      <th></th>\n",
              "      <th>Attributes</th>\n",
              "      <th>Min</th>\n",
              "      <th>Max</th>\n",
              "      <th>Range</th>\n",
              "      <th>Mean</th>\n",
              "      <th>Median</th>\n",
              "      <th>Std</th>\n",
              "      <th>Skew</th>\n",
              "      <th>Kurtosis</th>\n",
              "    </tr>\n",
              "  </thead>\n",
              "  <tbody>\n",
              "    <tr>\n",
              "      <th>0</th>\n",
              "      <td>date_block_num</td>\n",
              "      <td>0.0</td>\n",
              "      <td>33.0</td>\n",
              "      <td>33.0</td>\n",
              "      <td>14.569911</td>\n",
              "      <td>14.0</td>\n",
              "      <td>9.422986</td>\n",
              "      <td>0.203858</td>\n",
              "      <td>-1.082869</td>\n",
              "    </tr>\n",
              "    <tr>\n",
              "      <th>1</th>\n",
              "      <td>shop_id</td>\n",
              "      <td>0.0</td>\n",
              "      <td>59.0</td>\n",
              "      <td>59.0</td>\n",
              "      <td>33.001728</td>\n",
              "      <td>31.0</td>\n",
              "      <td>16.226970</td>\n",
              "      <td>-0.072361</td>\n",
              "      <td>-1.025358</td>\n",
              "    </tr>\n",
              "    <tr>\n",
              "      <th>2</th>\n",
              "      <td>item_id</td>\n",
              "      <td>0.0</td>\n",
              "      <td>22169.0</td>\n",
              "      <td>22169.0</td>\n",
              "      <td>10197.227057</td>\n",
              "      <td>9343.0</td>\n",
              "      <td>6324.296277</td>\n",
              "      <td>0.257174</td>\n",
              "      <td>-1.225210</td>\n",
              "    </tr>\n",
              "    <tr>\n",
              "      <th>3</th>\n",
              "      <td>item_price</td>\n",
              "      <td>-1.0</td>\n",
              "      <td>307980.0</td>\n",
              "      <td>307981.0</td>\n",
              "      <td>890.853233</td>\n",
              "      <td>399.0</td>\n",
              "      <td>1729.799336</td>\n",
              "      <td>10.750423</td>\n",
              "      <td>445.532826</td>\n",
              "    </tr>\n",
              "    <tr>\n",
              "      <th>4</th>\n",
              "      <td>item_cnt_day</td>\n",
              "      <td>-22.0</td>\n",
              "      <td>2169.0</td>\n",
              "      <td>2191.0</td>\n",
              "      <td>1.242641</td>\n",
              "      <td>1.0</td>\n",
              "      <td>2.618834</td>\n",
              "      <td>272.833162</td>\n",
              "      <td>177478.098774</td>\n",
              "    </tr>\n",
              "    <tr>\n",
              "      <th>5</th>\n",
              "      <td>item_category_id</td>\n",
              "      <td>0.0</td>\n",
              "      <td>83.0</td>\n",
              "      <td>83.0</td>\n",
              "      <td>40.001383</td>\n",
              "      <td>40.0</td>\n",
              "      <td>17.100756</td>\n",
              "      <td>0.318283</td>\n",
              "      <td>-0.525158</td>\n",
              "    </tr>\n",
              "  </tbody>\n",
              "</table>\n",
              "</div>"
            ],
            "text/plain": [
              "         Attributes   Min       Max  ...          Std        Skew       Kurtosis\n",
              "0    date_block_num   0.0      33.0  ...     9.422986    0.203858      -1.082869\n",
              "1           shop_id   0.0      59.0  ...    16.226970   -0.072361      -1.025358\n",
              "2           item_id   0.0   22169.0  ...  6324.296277    0.257174      -1.225210\n",
              "3        item_price  -1.0  307980.0  ...  1729.799336   10.750423     445.532826\n",
              "4      item_cnt_day -22.0    2169.0  ...     2.618834  272.833162  177478.098774\n",
              "5  item_category_id   0.0      83.0  ...    17.100756    0.318283      -0.525158\n",
              "\n",
              "[6 rows x 9 columns]"
            ]
          },
          "metadata": {},
          "execution_count": 41
        }
      ]
    },
    {
      "cell_type": "markdown",
      "metadata": {
        "id": "0S11x5FA56aJ"
      },
      "source": [
        "### 1.7.2. Categorical Attributes"
      ]
    },
    {
      "cell_type": "code",
      "metadata": {
        "colab": {
          "base_uri": "https://localhost:8080/"
        },
        "id": "lMd5_PXf5snK",
        "outputId": "27833584-62ca-4c12-d237-fe8920e2cfa6"
      },
      "source": [
        "# Unique values\n",
        "cat_attributes.apply(lambda x: x.unique().shape[0])"
      ],
      "execution_count": 43,
      "outputs": [
        {
          "output_type": "execute_result",
          "data": {
            "text/plain": [
              "item_name             21807\n",
              "item_category_name       84\n",
              "shop_name                60\n",
              "dtype: int64"
            ]
          },
          "metadata": {},
          "execution_count": 43
        }
      ]
    },
    {
      "cell_type": "markdown",
      "metadata": {
        "id": "04h7KG-76ZEA"
      },
      "source": [
        "# 2. Feature Engineering"
      ]
    },
    {
      "cell_type": "code",
      "metadata": {
        "id": "L-R8drGd6Dv2"
      },
      "source": [
        "df2 = df1.copy()"
      ],
      "execution_count": 44,
      "outputs": []
    },
    {
      "cell_type": "code",
      "metadata": {
        "id": "zDLx8uUW6dck"
      },
      "source": [
        ""
      ],
      "execution_count": null,
      "outputs": []
    }
  ]
}