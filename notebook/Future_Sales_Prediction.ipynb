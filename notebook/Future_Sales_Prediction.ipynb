{
  "nbformat": 4,
  "nbformat_minor": 0,
  "metadata": {
    "colab": {
      "name": "Future Sales Prediction.ipynb",
      "provenance": [],
      "collapsed_sections": [],
      "authorship_tag": "ABX9TyP3ocf0r+VmxEWtnMDJuAb5",
      "include_colab_link": true
    },
    "kernelspec": {
      "name": "python3",
      "display_name": "Python 3"
    },
    "language_info": {
      "name": "python"
    }
  },
  "cells": [
    {
      "cell_type": "markdown",
      "metadata": {
        "id": "view-in-github",
        "colab_type": "text"
      },
      "source": [
        "<a href=\"https://colab.research.google.com/github/Matheus-Homem/future-sales-prediction/blob/main/notebook/Future_Sales_Prediction.ipynb\" target=\"_parent\"><img src=\"https://colab.research.google.com/assets/colab-badge.svg\" alt=\"Open In Colab\"/></a>"
      ]
    },
    {
      "cell_type": "markdown",
      "metadata": {
        "id": "3o4smiNcsKX1"
      },
      "source": [
        "# 0. Imports"
      ]
    },
    {
      "cell_type": "markdown",
      "metadata": {
        "id": "VHkH_tzdyxBi"
      },
      "source": [
        "## 0.1. Libraries"
      ]
    },
    {
      "cell_type": "code",
      "metadata": {
        "id": "DfOkpi50sCtv"
      },
      "source": [
        "import pandas as pd\n",
        "import numpy as np\n",
        "import seaborn as sns\n",
        "sns.set_style('darkgrid')"
      ],
      "execution_count": 12,
      "outputs": []
    },
    {
      "cell_type": "code",
      "metadata": {
        "id": "e4nJ6dGXtI8O"
      },
      "source": [
        "import warnings\n",
        "warnings.filterwarnings('ignore')"
      ],
      "execution_count": 13,
      "outputs": []
    },
    {
      "cell_type": "markdown",
      "metadata": {
        "id": "TVqXmvb4tQ3D"
      },
      "source": [
        "## 0.2. Loading Data"
      ]
    },
    {
      "cell_type": "code",
      "metadata": {
        "id": "Re7dYxQUtO5u"
      },
      "source": [
        "# Importing data from .csv\n",
        "item_categories = pd.read_csv(\"https://github.com/Matheus-Homem/future-sales-prediction/raw/main/data/item_categories%20(translated).csv\")\n",
        "items = pd.read_csv(\"https://github.com/Matheus-Homem/future-sales-prediction/raw/main/data/items%20(translated).csv\")\n",
        "sales_train = pd.read_csv(\"https://github.com/Matheus-Homem/future-sales-prediction/raw/main/data/sales_train.csv\")\n",
        "shops = pd.read_csv(\"https://github.com/Matheus-Homem/future-sales-prediction/raw/main/data/shops%20(translated).csv\")"
      ],
      "execution_count": 14,
      "outputs": []
    },
    {
      "cell_type": "code",
      "metadata": {
        "colab": {
          "base_uri": "https://localhost:8080/"
        },
        "id": "JHEEC-jEvpJy",
        "outputId": "12e6192d-5c47-46f9-c528-712fa73abe9c"
      },
      "source": [
        "# First row of 'item_categories'\n",
        "item_categories.loc[0]"
      ],
      "execution_count": 15,
      "outputs": [
        {
          "output_type": "execute_result",
          "data": {
            "text/plain": [
              "item_category_name         PC - Гарнитуры/Наушники\n",
              "item_category_name_en    PC - Headset / Headphones\n",
              "item_category_id                                 0\n",
              "Name: 0, dtype: object"
            ]
          },
          "metadata": {},
          "execution_count": 15
        }
      ]
    },
    {
      "cell_type": "code",
      "metadata": {
        "colab": {
          "base_uri": "https://localhost:8080/"
        },
        "id": "o87vFi7pu7re",
        "outputId": "bdb2bfe9-535f-48b1-cfc0-be6f36aece05"
      },
      "source": [
        "# First row of 'items'\n",
        "items.loc[0]"
      ],
      "execution_count": 16,
      "outputs": [
        {
          "output_type": "execute_result",
          "data": {
            "text/plain": [
              "item_name                ! ВО ВЛАСТИ НАВАЖДЕНИЯ (ПЛАСТ.)         D\n",
              "item_name_en        Lucky In the power of the puffy (reservoir.) D\n",
              "item_id                                                          0\n",
              "item_category_id                                                40\n",
              "Name: 0, dtype: object"
            ]
          },
          "metadata": {},
          "execution_count": 16
        }
      ]
    },
    {
      "cell_type": "code",
      "metadata": {
        "colab": {
          "base_uri": "https://localhost:8080/"
        },
        "id": "gjrpgsTAvzPS",
        "outputId": "a5d72135-f648-41c9-8c5a-a81f412cec40"
      },
      "source": [
        "# First row of 'sales_train'\n",
        "sales_train.loc[0]"
      ],
      "execution_count": 17,
      "outputs": [
        {
          "output_type": "execute_result",
          "data": {
            "text/plain": [
              "date              02.01.2013\n",
              "date_block_num             0\n",
              "shop_id                   59\n",
              "item_id                22154\n",
              "item_price               999\n",
              "item_cnt_day               1\n",
              "Name: 0, dtype: object"
            ]
          },
          "metadata": {},
          "execution_count": 17
        }
      ]
    },
    {
      "cell_type": "code",
      "metadata": {
        "colab": {
          "base_uri": "https://localhost:8080/"
        },
        "id": "BgjyldMBxQeK",
        "outputId": "a1ea7b41-c767-4fd1-ec57-0ab908abac2d"
      },
      "source": [
        "# First row of 'shops'\n",
        "shops.loc[0]"
      ],
      "execution_count": 18,
      "outputs": [
        {
          "output_type": "execute_result",
          "data": {
            "text/plain": [
              "shop_name          !Якутск Орджоникидзе, 56 фран\n",
              "shop_name_en    ! Yakutsk Ordzhonikidze, 56 fran\n",
              "shop_id                                        0\n",
              "Name: 0, dtype: object"
            ]
          },
          "metadata": {},
          "execution_count": 18
        }
      ]
    },
    {
      "cell_type": "markdown",
      "metadata": {
        "id": "r2lOF9P-zEYQ"
      },
      "source": [
        "## 0.3. Helper Functions"
      ]
    },
    {
      "cell_type": "code",
      "metadata": {
        "id": "TKC-BMSQx1uQ"
      },
      "source": [
        ""
      ],
      "execution_count": 18,
      "outputs": []
    },
    {
      "cell_type": "markdown",
      "metadata": {
        "id": "1vKcpaXKzJCA"
      },
      "source": [
        "# 1. Data Description"
      ]
    },
    {
      "cell_type": "markdown",
      "metadata": {
        "id": "oeHxgdDNzSfZ"
      },
      "source": [
        "## 1.1. Merging Tables"
      ]
    },
    {
      "cell_type": "code",
      "metadata": {
        "colab": {
          "base_uri": "https://localhost:8080/",
          "height": 363
        },
        "id": "uY3eZDwKzM3b",
        "outputId": "908e61a6-a493-44e5-9c93-19d49246b370"
      },
      "source": [
        "df1 = pd.merge(items,item_categories,on='item_category_id')\n",
        "df1 = pd.merge(sales_train,df1,on='item_id')\n",
        "df1 = pd.merge(df1,shops,on='shop_id')\n",
        "\n",
        "cols_drop = ['item_name','item_category_name','shop_name']\n",
        "df1 = df1.drop(cols_drop, axis=1)\n",
        "\n",
        "df1.rename(columns={'item_name_en': 'item_name',\n",
        "                   'item_category_name_en': 'item_category_name',\n",
        "                   'shop_name_en': 'shop_name'},\n",
        "                   inplace=True)\n",
        "\n",
        "df1.sample().T"
      ],
      "execution_count": 22,
      "outputs": [
        {
          "output_type": "execute_result",
          "data": {
            "text/html": [
              "<div>\n",
              "<style scoped>\n",
              "    .dataframe tbody tr th:only-of-type {\n",
              "        vertical-align: middle;\n",
              "    }\n",
              "\n",
              "    .dataframe tbody tr th {\n",
              "        vertical-align: top;\n",
              "    }\n",
              "\n",
              "    .dataframe thead th {\n",
              "        text-align: right;\n",
              "    }\n",
              "</style>\n",
              "<table border=\"1\" class=\"dataframe\">\n",
              "  <thead>\n",
              "    <tr style=\"text-align: right;\">\n",
              "      <th></th>\n",
              "      <th>982809</th>\n",
              "    </tr>\n",
              "  </thead>\n",
              "  <tbody>\n",
              "    <tr>\n",
              "      <th>date</th>\n",
              "      <td>13.09.2014</td>\n",
              "    </tr>\n",
              "    <tr>\n",
              "      <th>date_block_num</th>\n",
              "      <td>20</td>\n",
              "    </tr>\n",
              "    <tr>\n",
              "      <th>shop_id</th>\n",
              "      <td>42</td>\n",
              "    </tr>\n",
              "    <tr>\n",
              "      <th>item_id</th>\n",
              "      <td>8662</td>\n",
              "    </tr>\n",
              "    <tr>\n",
              "      <th>item_price</th>\n",
              "      <td>149</td>\n",
              "    </tr>\n",
              "    <tr>\n",
              "      <th>item_cnt_day</th>\n",
              "      <td>1</td>\n",
              "    </tr>\n",
              "    <tr>\n",
              "      <th>item_name</th>\n",
              "      <td>Barboskina Issue 3: Real Guy (Region)</td>\n",
              "    </tr>\n",
              "    <tr>\n",
              "      <th>item_category_id</th>\n",
              "      <td>40</td>\n",
              "    </tr>\n",
              "    <tr>\n",
              "      <th>item_category_name</th>\n",
              "      <td>Cinema - DVD.</td>\n",
              "    </tr>\n",
              "    <tr>\n",
              "      <th>shop_name</th>\n",
              "      <td>SPB TK \"Nevsky Center\"</td>\n",
              "    </tr>\n",
              "  </tbody>\n",
              "</table>\n",
              "</div>"
            ],
            "text/plain": [
              "                                                   982809\n",
              "date                                           13.09.2014\n",
              "date_block_num                                         20\n",
              "shop_id                                                42\n",
              "item_id                                              8662\n",
              "item_price                                            149\n",
              "item_cnt_day                                            1\n",
              "item_name           Barboskina Issue 3: Real Guy (Region)\n",
              "item_category_id                                       40\n",
              "item_category_name                          Cinema - DVD.\n",
              "shop_name                          SPB TK \"Nevsky Center\""
            ]
          },
          "metadata": {},
          "execution_count": 22
        }
      ]
    },
    {
      "cell_type": "markdown",
      "metadata": {
        "id": "GCqopFbb1zg0"
      },
      "source": [
        "## 1.2. Data Dimensions"
      ]
    },
    {
      "cell_type": "code",
      "metadata": {
        "colab": {
          "base_uri": "https://localhost:8080/"
        },
        "id": "ztahC8hh0vyx",
        "outputId": "964a4db6-c5d2-4461-ac52-5b6fb7fa8975"
      },
      "source": [
        "print('Number of Rows: {:,}'.format(df1.shape[0]))\n",
        "print('Number of Columns: ',df1.shape[1])"
      ],
      "execution_count": 23,
      "outputs": [
        {
          "output_type": "stream",
          "name": "stdout",
          "text": [
            "Number of Rows: 2,935,849\n",
            "Number of Columns:  10\n"
          ]
        }
      ]
    },
    {
      "cell_type": "markdown",
      "metadata": {
        "id": "r4uA0QDV21l5"
      },
      "source": [
        "## 1.3. Data Types"
      ]
    },
    {
      "cell_type": "code",
      "metadata": {
        "colab": {
          "base_uri": "https://localhost:8080/"
        },
        "id": "iUMP7ILQ15rI",
        "outputId": "55af12cf-f320-4755-fcca-be7ee82fa624"
      },
      "source": [
        "df1.dtypes"
      ],
      "execution_count": 24,
      "outputs": [
        {
          "output_type": "execute_result",
          "data": {
            "text/plain": [
              "date                   object\n",
              "date_block_num          int64\n",
              "shop_id                 int64\n",
              "item_id                 int64\n",
              "item_price            float64\n",
              "item_cnt_day          float64\n",
              "item_name              object\n",
              "item_category_id        int64\n",
              "item_category_name     object\n",
              "shop_name              object\n",
              "dtype: object"
            ]
          },
          "metadata": {},
          "execution_count": 24
        }
      ]
    },
    {
      "cell_type": "markdown",
      "metadata": {
        "id": "SjgHBpW-3Trn"
      },
      "source": [
        "## 1.4. Change Data Types"
      ]
    },
    {
      "cell_type": "code",
      "metadata": {
        "id": "PGeYx5yG3I0I"
      },
      "source": [
        "df1['date'] = pd.to_datetime(df1['date'])"
      ],
      "execution_count": 25,
      "outputs": []
    },
    {
      "cell_type": "markdown",
      "metadata": {
        "id": "uhsVF-hD4wQh"
      },
      "source": [
        "## 1.5. NA Checking"
      ]
    },
    {
      "cell_type": "code",
      "metadata": {
        "colab": {
          "base_uri": "https://localhost:8080/"
        },
        "id": "iRc0hD0p4h2F",
        "outputId": "51b5c280-f776-4007-ca58-d7863c027eda"
      },
      "source": [
        "df1.isna().sum()"
      ],
      "execution_count": 26,
      "outputs": [
        {
          "output_type": "execute_result",
          "data": {
            "text/plain": [
              "date                  0\n",
              "date_block_num        0\n",
              "shop_id               0\n",
              "item_id               0\n",
              "item_price            0\n",
              "item_cnt_day          0\n",
              "item_name             0\n",
              "item_category_id      0\n",
              "item_category_name    0\n",
              "shop_name             0\n",
              "dtype: int64"
            ]
          },
          "metadata": {},
          "execution_count": 26
        }
      ]
    },
    {
      "cell_type": "markdown",
      "metadata": {
        "id": "DlIX288p5Hrn"
      },
      "source": [
        "## 1.6. Fillout NA"
      ]
    },
    {
      "cell_type": "markdown",
      "metadata": {
        "id": "nqxJZBAe5KQ_"
      },
      "source": [
        "- None of the columns have null values;"
      ]
    },
    {
      "cell_type": "markdown",
      "metadata": {
        "id": "CbOcge6O5bTX"
      },
      "source": [
        "## 1.7. Descriptive Statistical"
      ]
    },
    {
      "cell_type": "code",
      "metadata": {
        "id": "jjoKZTKK47Ez"
      },
      "source": [
        "num_attributes = df1.select_dtypes(include=['int64','float64'])\n",
        "cat_attributes = df1.select_dtypes(exclude=['int64','float64','datetime64[ns]'])"
      ],
      "execution_count": 27,
      "outputs": []
    },
    {
      "cell_type": "markdown",
      "metadata": {
        "id": "JkE4KeSq5j4p"
      },
      "source": [
        "### 1.7.1. Numerical Attributes"
      ]
    },
    {
      "cell_type": "code",
      "metadata": {
        "id": "VnB8HO8J5i0e"
      },
      "source": [
        "# Central Tendency - mean, median\n",
        "ct1 = pd.DataFrame(num_attributes.apply(np.mean)).T\n",
        "ct2 = pd.DataFrame(num_attributes.apply(np.median)).T\n",
        "\n",
        "# Dispersion - std, min, max, range, skew, kurtosis\n",
        "d1 = pd.DataFrame(num_attributes.apply(np.std)).T\n",
        "d2 = pd.DataFrame(num_attributes.apply(min)).T\n",
        "d3 = pd.DataFrame(num_attributes.apply(max)).T\n",
        "d4 = pd.DataFrame(num_attributes.apply(lambda x: x.max() - x.min())).T\n",
        "d5 = pd.DataFrame(num_attributes.apply(lambda x: x.skew())).T\n",
        "d6 = pd.DataFrame(num_attributes.apply(lambda x: x.kurtosis())).T\n",
        "\n",
        "# Contacatenate\n",
        "n = pd.concat([d2,d3,d4,ct1,ct2,d1,d5,d6]).T.reset_index()\n",
        "n.columns = ['Attributes','Min','Max','Range','Mean','Median','Std','Skew','Kurtosis']"
      ],
      "execution_count": 28,
      "outputs": []
    },
    {
      "cell_type": "code",
      "metadata": {
        "colab": {
          "base_uri": "https://localhost:8080/",
          "height": 238
        },
        "id": "5S49YqL95q45",
        "outputId": "ececd749-fa6e-47c6-ed91-a9b86d7964b7"
      },
      "source": [
        "n"
      ],
      "execution_count": 29,
      "outputs": [
        {
          "output_type": "execute_result",
          "data": {
            "text/html": [
              "<div>\n",
              "<style scoped>\n",
              "    .dataframe tbody tr th:only-of-type {\n",
              "        vertical-align: middle;\n",
              "    }\n",
              "\n",
              "    .dataframe tbody tr th {\n",
              "        vertical-align: top;\n",
              "    }\n",
              "\n",
              "    .dataframe thead th {\n",
              "        text-align: right;\n",
              "    }\n",
              "</style>\n",
              "<table border=\"1\" class=\"dataframe\">\n",
              "  <thead>\n",
              "    <tr style=\"text-align: right;\">\n",
              "      <th></th>\n",
              "      <th>Attributes</th>\n",
              "      <th>Min</th>\n",
              "      <th>Max</th>\n",
              "      <th>Range</th>\n",
              "      <th>Mean</th>\n",
              "      <th>Median</th>\n",
              "      <th>Std</th>\n",
              "      <th>Skew</th>\n",
              "      <th>Kurtosis</th>\n",
              "    </tr>\n",
              "  </thead>\n",
              "  <tbody>\n",
              "    <tr>\n",
              "      <th>0</th>\n",
              "      <td>date_block_num</td>\n",
              "      <td>0.0</td>\n",
              "      <td>33.0</td>\n",
              "      <td>33.0</td>\n",
              "      <td>14.569911</td>\n",
              "      <td>14.0</td>\n",
              "      <td>9.422986</td>\n",
              "      <td>0.203858</td>\n",
              "      <td>-1.082869</td>\n",
              "    </tr>\n",
              "    <tr>\n",
              "      <th>1</th>\n",
              "      <td>shop_id</td>\n",
              "      <td>0.0</td>\n",
              "      <td>59.0</td>\n",
              "      <td>59.0</td>\n",
              "      <td>33.001728</td>\n",
              "      <td>31.0</td>\n",
              "      <td>16.226970</td>\n",
              "      <td>-0.072361</td>\n",
              "      <td>-1.025358</td>\n",
              "    </tr>\n",
              "    <tr>\n",
              "      <th>2</th>\n",
              "      <td>item_id</td>\n",
              "      <td>0.0</td>\n",
              "      <td>22169.0</td>\n",
              "      <td>22169.0</td>\n",
              "      <td>10197.227057</td>\n",
              "      <td>9343.0</td>\n",
              "      <td>6324.296277</td>\n",
              "      <td>0.257174</td>\n",
              "      <td>-1.225210</td>\n",
              "    </tr>\n",
              "    <tr>\n",
              "      <th>3</th>\n",
              "      <td>item_price</td>\n",
              "      <td>-1.0</td>\n",
              "      <td>307980.0</td>\n",
              "      <td>307981.0</td>\n",
              "      <td>890.853233</td>\n",
              "      <td>399.0</td>\n",
              "      <td>1729.799336</td>\n",
              "      <td>10.750423</td>\n",
              "      <td>445.532826</td>\n",
              "    </tr>\n",
              "    <tr>\n",
              "      <th>4</th>\n",
              "      <td>item_cnt_day</td>\n",
              "      <td>-22.0</td>\n",
              "      <td>2169.0</td>\n",
              "      <td>2191.0</td>\n",
              "      <td>1.242641</td>\n",
              "      <td>1.0</td>\n",
              "      <td>2.618834</td>\n",
              "      <td>272.833162</td>\n",
              "      <td>177478.098774</td>\n",
              "    </tr>\n",
              "    <tr>\n",
              "      <th>5</th>\n",
              "      <td>item_category_id</td>\n",
              "      <td>0.0</td>\n",
              "      <td>83.0</td>\n",
              "      <td>83.0</td>\n",
              "      <td>40.001383</td>\n",
              "      <td>40.0</td>\n",
              "      <td>17.100756</td>\n",
              "      <td>0.318283</td>\n",
              "      <td>-0.525158</td>\n",
              "    </tr>\n",
              "  </tbody>\n",
              "</table>\n",
              "</div>"
            ],
            "text/plain": [
              "         Attributes   Min       Max  ...          Std        Skew       Kurtosis\n",
              "0    date_block_num   0.0      33.0  ...     9.422986    0.203858      -1.082869\n",
              "1           shop_id   0.0      59.0  ...    16.226970   -0.072361      -1.025358\n",
              "2           item_id   0.0   22169.0  ...  6324.296277    0.257174      -1.225210\n",
              "3        item_price  -1.0  307980.0  ...  1729.799336   10.750423     445.532826\n",
              "4      item_cnt_day -22.0    2169.0  ...     2.618834  272.833162  177478.098774\n",
              "5  item_category_id   0.0      83.0  ...    17.100756    0.318283      -0.525158\n",
              "\n",
              "[6 rows x 9 columns]"
            ]
          },
          "metadata": {},
          "execution_count": 29
        }
      ]
    },
    {
      "cell_type": "markdown",
      "metadata": {
        "id": "0S11x5FA56aJ"
      },
      "source": [
        "### 1.7.2. Categorical Attributes"
      ]
    },
    {
      "cell_type": "code",
      "metadata": {
        "colab": {
          "base_uri": "https://localhost:8080/"
        },
        "id": "lMd5_PXf5snK",
        "outputId": "a3704192-459b-4b98-ae13-a06c096fecbc"
      },
      "source": [
        "# Unique values\n",
        "cat_attributes.apply(lambda x: x.unique().shape[0])"
      ],
      "execution_count": 30,
      "outputs": [
        {
          "output_type": "execute_result",
          "data": {
            "text/plain": [
              "item_name             21720\n",
              "item_category_name       84\n",
              "shop_name                60\n",
              "dtype: int64"
            ]
          },
          "metadata": {},
          "execution_count": 30
        }
      ]
    },
    {
      "cell_type": "markdown",
      "metadata": {
        "id": "04h7KG-76ZEA"
      },
      "source": [
        "# 2. Feature Engineering"
      ]
    },
    {
      "cell_type": "code",
      "metadata": {
        "id": "L-R8drGd6Dv2"
      },
      "source": [
        "df2 = df1.copy()"
      ],
      "execution_count": 31,
      "outputs": []
    },
    {
      "cell_type": "markdown",
      "metadata": {
        "id": "W59a-VNC05If"
      },
      "source": [
        "## 2.1. Hypothesis Mind Map"
      ]
    },
    {
      "cell_type": "markdown",
      "metadata": {
        "id": "1UMlG9oM09ym"
      },
      "source": [
        "## 2.2. List of Hypothesis"
      ]
    },
    {
      "cell_type": "markdown",
      "metadata": {
        "id": "RDmacG9K1C42"
      },
      "source": [
        "## 2.3. Feature Engineering"
      ]
    },
    {
      "cell_type": "code",
      "metadata": {
        "id": "23-IoZvc6CHX"
      },
      "source": [
        "# Grouping item categories\n",
        "unique_categories = list(df2['item_category_name'].unique())\n",
        "unique_categories.sort()\n",
        "simple_categories = list(map(lambda x: x.split('-')[0], unique_categories))\n",
        "simple_categories = list(map(lambda x: x.split('(')[0].rstrip(), simple_categories))\n",
        "category_dict = dict(zip(unique_categories, simple_categories))\n",
        "df2['simple_categories'] = df2['item_category_name'].map(category_dict)\n",
        "\n"
      ],
      "execution_count": null,
      "outputs": []
    },
    {
      "cell_type": "code",
      "metadata": {
        "id": "zDLx8uUW6dck",
        "outputId": "c34b4808-3849-4e69-bebc-e032a9954e56",
        "colab": {
          "base_uri": "https://localhost:8080/",
          "height": 363
        }
      },
      "source": [
        "df2.sample().T"
      ],
      "execution_count": 32,
      "outputs": [
        {
          "output_type": "execute_result",
          "data": {
            "text/html": [
              "<div>\n",
              "<style scoped>\n",
              "    .dataframe tbody tr th:only-of-type {\n",
              "        vertical-align: middle;\n",
              "    }\n",
              "\n",
              "    .dataframe tbody tr th {\n",
              "        vertical-align: top;\n",
              "    }\n",
              "\n",
              "    .dataframe thead th {\n",
              "        text-align: right;\n",
              "    }\n",
              "</style>\n",
              "<table border=\"1\" class=\"dataframe\">\n",
              "  <thead>\n",
              "    <tr style=\"text-align: right;\">\n",
              "      <th></th>\n",
              "      <th>782602</th>\n",
              "    </tr>\n",
              "  </thead>\n",
              "  <tbody>\n",
              "    <tr>\n",
              "      <th>date</th>\n",
              "      <td>2014-07-14 00:00:00</td>\n",
              "    </tr>\n",
              "    <tr>\n",
              "      <th>date_block_num</th>\n",
              "      <td>18</td>\n",
              "    </tr>\n",
              "    <tr>\n",
              "      <th>shop_id</th>\n",
              "      <td>31</td>\n",
              "    </tr>\n",
              "    <tr>\n",
              "      <th>item_id</th>\n",
              "      <td>4553</td>\n",
              "    </tr>\n",
              "    <tr>\n",
              "      <th>item_price</th>\n",
              "      <td>299</td>\n",
              "    </tr>\n",
              "    <tr>\n",
              "      <th>item_cnt_day</th>\n",
              "      <td>1</td>\n",
              "    </tr>\n",
              "    <tr>\n",
              "      <th>item_name</th>\n",
              "      <td>Marcus Hook Roll Band Tales of Old Grand-Daddy</td>\n",
              "    </tr>\n",
              "    <tr>\n",
              "      <th>item_category_id</th>\n",
              "      <td>55</td>\n",
              "    </tr>\n",
              "    <tr>\n",
              "      <th>item_category_name</th>\n",
              "      <td>Music - Local CD CD</td>\n",
              "    </tr>\n",
              "    <tr>\n",
              "      <th>shop_name</th>\n",
              "      <td>Moscow TC \"Semenovsky\"</td>\n",
              "    </tr>\n",
              "  </tbody>\n",
              "</table>\n",
              "</div>"
            ],
            "text/plain": [
              "                                                            782602\n",
              "date                                           2014-07-14 00:00:00\n",
              "date_block_num                                                  18\n",
              "shop_id                                                         31\n",
              "item_id                                                       4553\n",
              "item_price                                                     299\n",
              "item_cnt_day                                                     1\n",
              "item_name           Marcus Hook Roll Band Tales of Old Grand-Daddy\n",
              "item_category_id                                                55\n",
              "item_category_name                             Music - Local CD CD\n",
              "shop_name                                   Moscow TC \"Semenovsky\""
            ]
          },
          "metadata": {},
          "execution_count": 32
        }
      ]
    },
    {
      "cell_type": "code",
      "metadata": {
        "id": "OxFnTM2D1J9G",
        "outputId": "53a57761-a9f6-43ac-a9d8-5ff3bf854f93",
        "colab": {
          "base_uri": "https://localhost:8080/"
        }
      },
      "source": [
        "# Grouping\n",
        "\n",
        "list(set(simple_categories))"
      ],
      "execution_count": 57,
      "outputs": [
        {
          "output_type": "execute_result",
          "data": {
            "text/plain": [
              "['Clean media',\n",
              " 'Programs',\n",
              " 'Android games',\n",
              " 'Accessories',\n",
              " 'Games',\n",
              " 'PC',\n",
              " 'Tickets',\n",
              " 'Gaming consoles',\n",
              " 'Books',\n",
              " 'Delivery of goods',\n",
              " 'Gaming Consoles',\n",
              " 'Gifts',\n",
              " 'Payment cards',\n",
              " 'Service',\n",
              " 'Cinema',\n",
              " 'Payment maps',\n",
              " 'PC games',\n",
              " 'Power elements',\n",
              " 'MAC games',\n",
              " 'PC Games',\n",
              " 'Music']"
            ]
          },
          "metadata": {},
          "execution_count": 57
        }
      ]
    },
    {
      "cell_type": "code",
      "metadata": {
        "id": "l2LEGtqz40nn"
      },
      "source": [
        ""
      ],
      "execution_count": 59,
      "outputs": []
    },
    {
      "cell_type": "code",
      "metadata": {
        "id": "kGerq5nH5csW",
        "outputId": "744eaea9-9a89-4230-93bc-dbef596b5437",
        "colab": {
          "base_uri": "https://localhost:8080/",
          "height": 568
        }
      },
      "source": [
        "df2.sample(10).T"
      ],
      "execution_count": 60,
      "outputs": [
        {
          "output_type": "execute_result",
          "data": {
            "text/html": [
              "<div>\n",
              "<style scoped>\n",
              "    .dataframe tbody tr th:only-of-type {\n",
              "        vertical-align: middle;\n",
              "    }\n",
              "\n",
              "    .dataframe tbody tr th {\n",
              "        vertical-align: top;\n",
              "    }\n",
              "\n",
              "    .dataframe thead th {\n",
              "        text-align: right;\n",
              "    }\n",
              "</style>\n",
              "<table border=\"1\" class=\"dataframe\">\n",
              "  <thead>\n",
              "    <tr style=\"text-align: right;\">\n",
              "      <th></th>\n",
              "      <th>2592685</th>\n",
              "      <th>1689520</th>\n",
              "      <th>1392431</th>\n",
              "      <th>725107</th>\n",
              "      <th>2710869</th>\n",
              "      <th>697490</th>\n",
              "      <th>804440</th>\n",
              "      <th>405743</th>\n",
              "      <th>650430</th>\n",
              "      <th>2468027</th>\n",
              "    </tr>\n",
              "  </thead>\n",
              "  <tbody>\n",
              "    <tr>\n",
              "      <th>date</th>\n",
              "      <td>2014-11-09 00:00:00</td>\n",
              "      <td>2014-06-04 00:00:00</td>\n",
              "      <td>2013-05-13 00:00:00</td>\n",
              "      <td>2013-11-08 00:00:00</td>\n",
              "      <td>2014-06-25 00:00:00</td>\n",
              "      <td>2015-04-30 00:00:00</td>\n",
              "      <td>2015-02-08 00:00:00</td>\n",
              "      <td>2014-11-05 00:00:00</td>\n",
              "      <td>2013-10-22 00:00:00</td>\n",
              "      <td>2014-10-28 00:00:00</td>\n",
              "    </tr>\n",
              "    <tr>\n",
              "      <th>date_block_num</th>\n",
              "      <td>20</td>\n",
              "      <td>15</td>\n",
              "      <td>4</td>\n",
              "      <td>7</td>\n",
              "      <td>17</td>\n",
              "      <td>27</td>\n",
              "      <td>31</td>\n",
              "      <td>16</td>\n",
              "      <td>9</td>\n",
              "      <td>21</td>\n",
              "    </tr>\n",
              "    <tr>\n",
              "      <th>shop_id</th>\n",
              "      <td>53</td>\n",
              "      <td>58</td>\n",
              "      <td>28</td>\n",
              "      <td>31</td>\n",
              "      <td>45</td>\n",
              "      <td>31</td>\n",
              "      <td>31</td>\n",
              "      <td>6</td>\n",
              "      <td>31</td>\n",
              "      <td>26</td>\n",
              "    </tr>\n",
              "    <tr>\n",
              "      <th>item_id</th>\n",
              "      <td>6497</td>\n",
              "      <td>12600</td>\n",
              "      <td>4510</td>\n",
              "      <td>7341</td>\n",
              "      <td>2047</td>\n",
              "      <td>21880</td>\n",
              "      <td>15785</td>\n",
              "      <td>17317</td>\n",
              "      <td>12444</td>\n",
              "      <td>7856</td>\n",
              "    </tr>\n",
              "    <tr>\n",
              "      <th>item_price</th>\n",
              "      <td>799</td>\n",
              "      <td>149</td>\n",
              "      <td>299</td>\n",
              "      <td>299</td>\n",
              "      <td>549</td>\n",
              "      <td>149</td>\n",
              "      <td>299</td>\n",
              "      <td>149</td>\n",
              "      <td>399</td>\n",
              "      <td>799</td>\n",
              "    </tr>\n",
              "    <tr>\n",
              "      <th>item_cnt_day</th>\n",
              "      <td>1</td>\n",
              "      <td>1</td>\n",
              "      <td>1</td>\n",
              "      <td>1</td>\n",
              "      <td>1</td>\n",
              "      <td>1</td>\n",
              "      <td>1</td>\n",
              "      <td>1</td>\n",
              "      <td>1</td>\n",
              "      <td>1</td>\n",
              "    </tr>\n",
              "    <tr>\n",
              "      <th>item_name</th>\n",
              "      <td>Sims 3: Set for beginners [PC, Russian version]</td>\n",
              "      <td>Jungle Book M / F (region)</td>\n",
              "      <td>Madonna MDNA.</td>\n",
              "      <td>V / A Dubstep Bass &amp; Movement 3 2CD (Digipack)</td>\n",
              "      <td>Bound by Flame [PC, Jewel, Russian subtitles]</td>\n",
              "      <td>MONSTER HIGH. Why Monsters fall in love / Cree...</td>\n",
              "      <td>Noah (3D BD)</td>\n",
              "      <td>President Lincoln: Vampire Hunter</td>\n",
              "      <td>Quartet and 4 in 1 (4DVD)</td>\n",
              "      <td>World of Warcraft. Game Time Payment Map (Onli...</td>\n",
              "    </tr>\n",
              "    <tr>\n",
              "      <th>item_category_id</th>\n",
              "      <td>28</td>\n",
              "      <td>40</td>\n",
              "      <td>55</td>\n",
              "      <td>55</td>\n",
              "      <td>30</td>\n",
              "      <td>40</td>\n",
              "      <td>38</td>\n",
              "      <td>40</td>\n",
              "      <td>41</td>\n",
              "      <td>28</td>\n",
              "    </tr>\n",
              "    <tr>\n",
              "      <th>item_category_name</th>\n",
              "      <td>PC Games - Additional Editions</td>\n",
              "      <td>Cinema - DVD.</td>\n",
              "      <td>Music - Local CD CD</td>\n",
              "      <td>Music - Local CD CD</td>\n",
              "      <td>PC Games - Standard Editions</td>\n",
              "      <td>Cinema - DVD.</td>\n",
              "      <td>Cinema - Blu-ray 3D</td>\n",
              "      <td>Cinema - DVD.</td>\n",
              "      <td>Cinema - collectivity</td>\n",
              "      <td>PC Games - Additional Editions</td>\n",
              "    </tr>\n",
              "    <tr>\n",
              "      <th>shop_name</th>\n",
              "      <td>Ufa TC \"Family\" 2</td>\n",
              "      <td>Yakutsk shopping center \"Central\"</td>\n",
              "      <td>Moscow TC \"Mega Teply Stan\" II</td>\n",
              "      <td>Moscow TC \"Semenovsky\"</td>\n",
              "      <td>Samara shopping center \"Parkhouse\"</td>\n",
              "      <td>Moscow TC \"Semenovsky\"</td>\n",
              "      <td>Moscow TC \"Semenovsky\"</td>\n",
              "      <td>Voronezh (Plekhanovskaya, 13)</td>\n",
              "      <td>Moscow TC \"Semenovsky\"</td>\n",
              "      <td>Moscow TC \"Area\" (Belyaevo)</td>\n",
              "    </tr>\n",
              "    <tr>\n",
              "      <th>simple_categories</th>\n",
              "      <td>PC Games</td>\n",
              "      <td>Cinema</td>\n",
              "      <td>Music</td>\n",
              "      <td>Music</td>\n",
              "      <td>PC Games</td>\n",
              "      <td>Cinema</td>\n",
              "      <td>Cinema</td>\n",
              "      <td>Cinema</td>\n",
              "      <td>Cinema</td>\n",
              "      <td>PC Games</td>\n",
              "    </tr>\n",
              "  </tbody>\n",
              "</table>\n",
              "</div>"
            ],
            "text/plain": [
              "                                                            2592685  ...                                            2468027\n",
              "date                                            2014-11-09 00:00:00  ...                                2014-10-28 00:00:00\n",
              "date_block_num                                                   20  ...                                                 21\n",
              "shop_id                                                          53  ...                                                 26\n",
              "item_id                                                        6497  ...                                               7856\n",
              "item_price                                                      799  ...                                                799\n",
              "item_cnt_day                                                      1  ...                                                  1\n",
              "item_name           Sims 3: Set for beginners [PC, Russian version]  ...  World of Warcraft. Game Time Payment Map (Onli...\n",
              "item_category_id                                                 28  ...                                                 28\n",
              "item_category_name                   PC Games - Additional Editions  ...                     PC Games - Additional Editions\n",
              "shop_name                                         Ufa TC \"Family\" 2  ...                        Moscow TC \"Area\" (Belyaevo)\n",
              "simple_categories                                          PC Games  ...                                           PC Games\n",
              "\n",
              "[11 rows x 10 columns]"
            ]
          },
          "metadata": {},
          "execution_count": 60
        }
      ]
    },
    {
      "cell_type": "code",
      "metadata": {
        "id": "whnWqIhD3eZW",
        "outputId": "5372c5ce-6571-4366-c66d-3312ffffae96",
        "colab": {
          "base_uri": "https://localhost:8080/"
        }
      },
      "source": [
        "df2[df2['item_category_name']=='Clean media (spire)']['item_name'].sample(10)"
      ],
      "execution_count": 46,
      "outputs": [
        {
          "output_type": "execute_result",
          "data": {
            "text/plain": [
              "1277478    Mirex CD-R PRINTABLE INKJET 48X Cake Box 10\n",
              "1544412    Mirex CD-R PRINTABLE INKJET 48X Cake Box 10\n",
              "852007     Mirex CD-R PRINTABLE INKJET 48X Cake Box 10\n",
              "2237093    Mirex CD-R PRINTABLE INKJET 48X Cake Box 10\n",
              "1374676    Mirex CD-R PRINTABLE INKJET 48X Cake Box 10\n",
              "2059594             Mirex DVD-R 4.7 GB 16x Cake Box 10\n",
              "1544163             Mirex DVD-R 4.7 GB 16x Cake Box 10\n",
              "234937              Mirex DVD-R 4.7 GB 16x Cake Box 10\n",
              "1234814             Mirex DVD-R 4.7 GB 16x Cake Box 10\n",
              "1972796             Mirex DVD-R 4.7 GB 16x Cake Box 10\n",
              "Name: item_name, dtype: object"
            ]
          },
          "metadata": {},
          "execution_count": 46
        }
      ]
    },
    {
      "cell_type": "code",
      "metadata": {
        "id": "04XqDeDP1hy2",
        "outputId": "3af463c7-ce74-43b5-fbec-8ac31b8a7c72",
        "colab": {
          "base_uri": "https://localhost:8080/"
        }
      },
      "source": [
        "unique_categories = list(df2['item_category_name'].unique())\n",
        "unique_categories.sort()\n",
        "unique_categories"
      ],
      "execution_count": 44,
      "outputs": [
        {
          "output_type": "execute_result",
          "data": {
            "text/plain": [
              "['Accessories - PS2.',\n",
              " 'Accessories - PS3.',\n",
              " 'Accessories - PS4.',\n",
              " 'Accessories - PSP.',\n",
              " 'Accessories - Psvita.',\n",
              " 'Accessories - Xbox 360',\n",
              " 'Accessories - Xbox One',\n",
              " 'Android games - digit',\n",
              " 'Books - Artbooks, Encyclopedia',\n",
              " 'Books - Audiobooks (Figure)',\n",
              " 'Books - Audiobooks 1C',\n",
              " 'Books - Business Literature',\n",
              " 'Books - Cognitive Literature',\n",
              " 'Books - Comics, Manga',\n",
              " 'Books - Computer Literature',\n",
              " 'Books - Fiction',\n",
              " 'Books - Methodological materials 1C',\n",
              " 'Books - audiobooks',\n",
              " 'Books - digit',\n",
              " 'Books - guidebooks',\n",
              " 'Books - postcards',\n",
              " 'Cinema - Blu-Ray 4K',\n",
              " 'Cinema - Blu-ray',\n",
              " 'Cinema - Blu-ray 3D',\n",
              " 'Cinema - DVD.',\n",
              " 'Cinema - collectivity',\n",
              " 'Clean media (piece)',\n",
              " 'Clean media (spire)',\n",
              " 'Delivery of goods',\n",
              " 'Games - Accessories for games',\n",
              " 'Games - PS2.',\n",
              " 'Games - PS3',\n",
              " 'Games - PS4',\n",
              " 'Games - PSP.',\n",
              " 'Games - Xbox 360',\n",
              " 'Games - Xbox One',\n",
              " 'Games - psvita.',\n",
              " 'Gaming Consoles - PS2',\n",
              " 'Gaming Consoles - PS3',\n",
              " 'Gaming Consoles - PS4',\n",
              " 'Gaming Consoles - PSP',\n",
              " 'Gaming Consoles - Psvita',\n",
              " 'Gaming Consoles - Xbox 360',\n",
              " 'Gaming Consoles - Xbox One',\n",
              " 'Gaming consoles - Other',\n",
              " 'Gifts - Bags, Albums, Rugs D / Mouse',\n",
              " 'Gifts - Board Games',\n",
              " 'Gifts - Board Games (Compact)',\n",
              " 'Gifts - Certificates, Services',\n",
              " 'Gifts - Figures',\n",
              " 'Gifts - Gadgets, Robots, Sports',\n",
              " 'Gifts - Postcards, Stickers',\n",
              " 'Gifts - Soft Toys',\n",
              " 'Gifts - Souvenirs',\n",
              " 'Gifts - Souvenirs (in the hitch)',\n",
              " 'Gifts - attributes',\n",
              " 'Gifts - development',\n",
              " 'MAC games - digit',\n",
              " 'Music - Gift Editions',\n",
              " 'Music - Local CD CD',\n",
              " 'Music - Music Video',\n",
              " 'Music - Vinyl',\n",
              " 'Music - corporate production CD',\n",
              " 'Music - mp3',\n",
              " 'PC - Headset / Headphones',\n",
              " 'PC Games - Additional Editions',\n",
              " 'PC Games - Collectible Editions',\n",
              " 'PC Games - Standard Editions',\n",
              " 'PC games - digit',\n",
              " 'Payment cards (cinema, music, games)',\n",
              " 'Payment cards - Live!',\n",
              " 'Payment cards - Live! (Number)',\n",
              " 'Payment cards - PSN',\n",
              " 'Payment maps - Windows (digit)',\n",
              " 'Power elements',\n",
              " 'Programs - 1C: Enterprise 8',\n",
              " 'Programs - Educational',\n",
              " 'Programs - Mac (digit)',\n",
              " 'Programs - for home and office',\n",
              " 'Programs - for home and office (digit)',\n",
              " 'Programs - training (digit)',\n",
              " 'Service',\n",
              " 'Service - Tickets',\n",
              " 'Tickets (digit)']"
            ]
          },
          "metadata": {},
          "execution_count": 44
        }
      ]
    },
    {
      "cell_type": "code",
      "metadata": {
        "id": "9vyiPI5F2ZL2"
      },
      "source": [
        ""
      ],
      "execution_count": null,
      "outputs": []
    }
  ]
}