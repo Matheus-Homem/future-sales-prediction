{
  "nbformat": 4,
  "nbformat_minor": 0,
  "metadata": {
    "colab": {
      "name": "Future Sales Prediction.ipynb",
      "provenance": [],
      "collapsed_sections": [],
      "authorship_tag": "ABX9TyNHPsJm6ee1x7mi6YDM0sza",
      "include_colab_link": true
    },
    "kernelspec": {
      "name": "python3",
      "display_name": "Python 3"
    },
    "language_info": {
      "name": "python"
    }
  },
  "cells": [
    {
      "cell_type": "markdown",
      "metadata": {
        "id": "view-in-github",
        "colab_type": "text"
      },
      "source": [
        "<a href=\"https://colab.research.google.com/github/Matheus-Homem/future-sales-prediction/blob/main/notebook/Future_Sales_Prediction.ipynb\" target=\"_parent\"><img src=\"https://colab.research.google.com/assets/colab-badge.svg\" alt=\"Open In Colab\"/></a>"
      ]
    },
    {
      "cell_type": "markdown",
      "metadata": {
        "id": "3o4smiNcsKX1"
      },
      "source": [
        "# 0. Imports"
      ]
    },
    {
      "cell_type": "markdown",
      "metadata": {
        "id": "VHkH_tzdyxBi"
      },
      "source": [
        "## 0.1. Libraries"
      ]
    },
    {
      "cell_type": "code",
      "metadata": {
        "id": "DfOkpi50sCtv"
      },
      "source": [
        "import pandas as pd\n",
        "import numpy as np\n",
        "import seaborn as sns\n",
        "sns.set_style('darkgrid')\n",
        "import matplotlib.pyplot as plt\n",
        "from matplotlib import cm\n",
        "import seaborn as sns"
      ],
      "execution_count": 56,
      "outputs": []
    },
    {
      "cell_type": "code",
      "metadata": {
        "id": "e4nJ6dGXtI8O"
      },
      "source": [
        "import warnings\n",
        "warnings.filterwarnings('ignore')"
      ],
      "execution_count": 57,
      "outputs": []
    },
    {
      "cell_type": "code",
      "metadata": {
        "id": "mP85Sr9R7M62"
      },
      "source": [
        "# Colors\n",
        "viridis = cm.get_cmap('viridis', 12)(0.2)"
      ],
      "execution_count": 58,
      "outputs": []
    },
    {
      "cell_type": "markdown",
      "metadata": {
        "id": "TVqXmvb4tQ3D"
      },
      "source": [
        "## 0.2. Loading Data"
      ]
    },
    {
      "cell_type": "code",
      "metadata": {
        "id": "Re7dYxQUtO5u"
      },
      "source": [
        "# Importing data from .csv\n",
        "item_categories = pd.read_csv(\"https://github.com/Matheus-Homem/future-sales-prediction/raw/main/data/item_categories%20(translated).csv\")\n",
        "items = pd.read_csv(\"https://github.com/Matheus-Homem/future-sales-prediction/raw/main/data/items%20(translated).csv\")\n",
        "sales_train = pd.read_csv(\"https://github.com/Matheus-Homem/future-sales-prediction/raw/main/data/sales_train.csv\")\n",
        "shops = pd.read_csv(\"https://github.com/Matheus-Homem/future-sales-prediction/raw/main/data/shops%20(translated).csv\")"
      ],
      "execution_count": 59,
      "outputs": []
    },
    {
      "cell_type": "code",
      "metadata": {
        "colab": {
          "base_uri": "https://localhost:8080/"
        },
        "id": "JHEEC-jEvpJy",
        "outputId": "6acd3016-3553-4f59-dc57-ca0b3eeaff2e"
      },
      "source": [
        "# First row of 'item_categories'\n",
        "item_categories.loc[0]"
      ],
      "execution_count": 60,
      "outputs": [
        {
          "output_type": "execute_result",
          "data": {
            "text/plain": [
              "item_category_name         PC - Гарнитуры/Наушники\n",
              "item_category_name_en    PC - Headset / Headphones\n",
              "item_category_id                                 0\n",
              "Name: 0, dtype: object"
            ]
          },
          "metadata": {},
          "execution_count": 60
        }
      ]
    },
    {
      "cell_type": "code",
      "metadata": {
        "colab": {
          "base_uri": "https://localhost:8080/"
        },
        "id": "o87vFi7pu7re",
        "outputId": "8d65555a-418a-4dfa-af2a-6dc7ae7dde77"
      },
      "source": [
        "# First row of 'items'\n",
        "items.loc[0]"
      ],
      "execution_count": 61,
      "outputs": [
        {
          "output_type": "execute_result",
          "data": {
            "text/plain": [
              "item_name                ! ВО ВЛАСТИ НАВАЖДЕНИЯ (ПЛАСТ.)         D\n",
              "item_name_en        Lucky In the power of the puffy (reservoir.) D\n",
              "item_id                                                          0\n",
              "item_category_id                                                40\n",
              "Name: 0, dtype: object"
            ]
          },
          "metadata": {},
          "execution_count": 61
        }
      ]
    },
    {
      "cell_type": "code",
      "metadata": {
        "colab": {
          "base_uri": "https://localhost:8080/"
        },
        "id": "gjrpgsTAvzPS",
        "outputId": "d0c64be5-f81d-4631-e667-aee46667ef8a"
      },
      "source": [
        "# First row of 'sales_train'\n",
        "sales_train.loc[0]"
      ],
      "execution_count": 62,
      "outputs": [
        {
          "output_type": "execute_result",
          "data": {
            "text/plain": [
              "date              02.01.2013\n",
              "date_block_num             0\n",
              "shop_id                   59\n",
              "item_id                22154\n",
              "item_price               999\n",
              "item_cnt_day               1\n",
              "Name: 0, dtype: object"
            ]
          },
          "metadata": {},
          "execution_count": 62
        }
      ]
    },
    {
      "cell_type": "code",
      "metadata": {
        "colab": {
          "base_uri": "https://localhost:8080/"
        },
        "id": "BgjyldMBxQeK",
        "outputId": "6e6a5652-2aa3-45fa-b26d-1a9644b6f4b9"
      },
      "source": [
        "# First row of 'shops'\n",
        "shops.loc[0]"
      ],
      "execution_count": 63,
      "outputs": [
        {
          "output_type": "execute_result",
          "data": {
            "text/plain": [
              "shop_name          !Якутск Орджоникидзе, 56 фран\n",
              "shop_name_en    ! Yakutsk Ordzhonikidze, 56 fran\n",
              "shop_id                                        0\n",
              "Name: 0, dtype: object"
            ]
          },
          "metadata": {},
          "execution_count": 63
        }
      ]
    },
    {
      "cell_type": "markdown",
      "metadata": {
        "id": "r2lOF9P-zEYQ"
      },
      "source": [
        "## 0.3. Helper Functions"
      ]
    },
    {
      "cell_type": "code",
      "metadata": {
        "id": "TKC-BMSQx1uQ"
      },
      "source": [
        ""
      ],
      "execution_count": 63,
      "outputs": []
    },
    {
      "cell_type": "markdown",
      "metadata": {
        "id": "1vKcpaXKzJCA"
      },
      "source": [
        "# 1. Data Description"
      ]
    },
    {
      "cell_type": "markdown",
      "metadata": {
        "id": "oeHxgdDNzSfZ"
      },
      "source": [
        "## 1.1. Merging Tables"
      ]
    },
    {
      "cell_type": "code",
      "metadata": {
        "colab": {
          "base_uri": "https://localhost:8080/",
          "height": 363
        },
        "id": "uY3eZDwKzM3b",
        "outputId": "70f00343-3fe3-46a7-9a12-716559db242f"
      },
      "source": [
        "df1 = pd.merge(items,item_categories,on='item_category_id')\n",
        "df1 = pd.merge(sales_train,df1,on='item_id')\n",
        "df1 = pd.merge(df1,shops,on='shop_id')\n",
        "\n",
        "cols_drop = ['item_name','item_category_name','shop_name']\n",
        "df1 = df1.drop(cols_drop, axis=1)\n",
        "\n",
        "df1.rename(columns={'item_name_en': 'item_name',\n",
        "                   'item_category_name_en': 'item_category_name',\n",
        "                   'shop_name_en': 'shop_name'},\n",
        "                   inplace=True)\n",
        "\n",
        "df1.sample().T"
      ],
      "execution_count": 64,
      "outputs": [
        {
          "output_type": "execute_result",
          "data": {
            "text/html": [
              "<div>\n",
              "<style scoped>\n",
              "    .dataframe tbody tr th:only-of-type {\n",
              "        vertical-align: middle;\n",
              "    }\n",
              "\n",
              "    .dataframe tbody tr th {\n",
              "        vertical-align: top;\n",
              "    }\n",
              "\n",
              "    .dataframe thead th {\n",
              "        text-align: right;\n",
              "    }\n",
              "</style>\n",
              "<table border=\"1\" class=\"dataframe\">\n",
              "  <thead>\n",
              "    <tr style=\"text-align: right;\">\n",
              "      <th></th>\n",
              "      <th>419033</th>\n",
              "    </tr>\n",
              "  </thead>\n",
              "  <tbody>\n",
              "    <tr>\n",
              "      <th>date</th>\n",
              "      <td>28.01.2013</td>\n",
              "    </tr>\n",
              "    <tr>\n",
              "      <th>date_block_num</th>\n",
              "      <td>0</td>\n",
              "    </tr>\n",
              "    <tr>\n",
              "      <th>shop_id</th>\n",
              "      <td>6</td>\n",
              "    </tr>\n",
              "    <tr>\n",
              "      <th>item_id</th>\n",
              "      <td>55</td>\n",
              "    </tr>\n",
              "    <tr>\n",
              "      <th>item_price</th>\n",
              "      <td>299</td>\n",
              "    </tr>\n",
              "    <tr>\n",
              "      <th>item_cnt_day</th>\n",
              "      <td>1</td>\n",
              "    </tr>\n",
              "    <tr>\n",
              "      <th>item_name</th>\n",
              "      <td>100 favorite little fairy tales (mp3-CD) (Jewel)</td>\n",
              "    </tr>\n",
              "    <tr>\n",
              "      <th>item_category_id</th>\n",
              "      <td>43</td>\n",
              "    </tr>\n",
              "    <tr>\n",
              "      <th>item_category_name</th>\n",
              "      <td>Books - audiobooks</td>\n",
              "    </tr>\n",
              "    <tr>\n",
              "      <th>shop_name</th>\n",
              "      <td>Voronezh (Plekhanovskaya, 13)</td>\n",
              "    </tr>\n",
              "  </tbody>\n",
              "</table>\n",
              "</div>"
            ],
            "text/plain": [
              "                                                              419033\n",
              "date                                                      28.01.2013\n",
              "date_block_num                                                     0\n",
              "shop_id                                                            6\n",
              "item_id                                                           55\n",
              "item_price                                                       299\n",
              "item_cnt_day                                                       1\n",
              "item_name           100 favorite little fairy tales (mp3-CD) (Jewel)\n",
              "item_category_id                                                  43\n",
              "item_category_name                                Books - audiobooks\n",
              "shop_name                              Voronezh (Plekhanovskaya, 13)"
            ]
          },
          "metadata": {},
          "execution_count": 64
        }
      ]
    },
    {
      "cell_type": "markdown",
      "metadata": {
        "id": "GCqopFbb1zg0"
      },
      "source": [
        "## 1.2. Data Dimensions"
      ]
    },
    {
      "cell_type": "code",
      "metadata": {
        "colab": {
          "base_uri": "https://localhost:8080/"
        },
        "id": "ztahC8hh0vyx",
        "outputId": "fbbd33ce-855f-4060-dcd7-3d8d5cea8789"
      },
      "source": [
        "print('Number of Rows: {:,}'.format(df1.shape[0]))\n",
        "print('Number of Columns: ',df1.shape[1])"
      ],
      "execution_count": 65,
      "outputs": [
        {
          "output_type": "stream",
          "name": "stdout",
          "text": [
            "Number of Rows: 2,935,849\n",
            "Number of Columns:  10\n"
          ]
        }
      ]
    },
    {
      "cell_type": "markdown",
      "metadata": {
        "id": "r4uA0QDV21l5"
      },
      "source": [
        "## 1.3. Data Types"
      ]
    },
    {
      "cell_type": "code",
      "metadata": {
        "colab": {
          "base_uri": "https://localhost:8080/"
        },
        "id": "iUMP7ILQ15rI",
        "outputId": "73918087-7e49-4d61-f04c-8dc1156e5144"
      },
      "source": [
        "df1.dtypes"
      ],
      "execution_count": 66,
      "outputs": [
        {
          "output_type": "execute_result",
          "data": {
            "text/plain": [
              "date                   object\n",
              "date_block_num          int64\n",
              "shop_id                 int64\n",
              "item_id                 int64\n",
              "item_price            float64\n",
              "item_cnt_day          float64\n",
              "item_name              object\n",
              "item_category_id        int64\n",
              "item_category_name     object\n",
              "shop_name              object\n",
              "dtype: object"
            ]
          },
          "metadata": {},
          "execution_count": 66
        }
      ]
    },
    {
      "cell_type": "markdown",
      "metadata": {
        "id": "SjgHBpW-3Trn"
      },
      "source": [
        "## 1.4. Change Data Types"
      ]
    },
    {
      "cell_type": "code",
      "metadata": {
        "id": "PGeYx5yG3I0I"
      },
      "source": [
        "df1['date'] = pd.to_datetime(df1['date'])"
      ],
      "execution_count": 67,
      "outputs": []
    },
    {
      "cell_type": "markdown",
      "metadata": {
        "id": "uhsVF-hD4wQh"
      },
      "source": [
        "## 1.5. NA Checking"
      ]
    },
    {
      "cell_type": "code",
      "metadata": {
        "colab": {
          "base_uri": "https://localhost:8080/"
        },
        "id": "iRc0hD0p4h2F",
        "outputId": "acde2522-6598-4451-aa19-13e3031f9567"
      },
      "source": [
        "df1.isna().sum()"
      ],
      "execution_count": 68,
      "outputs": [
        {
          "output_type": "execute_result",
          "data": {
            "text/plain": [
              "date                  0\n",
              "date_block_num        0\n",
              "shop_id               0\n",
              "item_id               0\n",
              "item_price            0\n",
              "item_cnt_day          0\n",
              "item_name             0\n",
              "item_category_id      0\n",
              "item_category_name    0\n",
              "shop_name             0\n",
              "dtype: int64"
            ]
          },
          "metadata": {},
          "execution_count": 68
        }
      ]
    },
    {
      "cell_type": "markdown",
      "metadata": {
        "id": "DlIX288p5Hrn"
      },
      "source": [
        "## 1.6. Fillout NA"
      ]
    },
    {
      "cell_type": "markdown",
      "metadata": {
        "id": "nqxJZBAe5KQ_"
      },
      "source": [
        "- None of the columns have null values;"
      ]
    },
    {
      "cell_type": "markdown",
      "metadata": {
        "id": "CbOcge6O5bTX"
      },
      "source": [
        "## 1.7. Descriptive Statistical"
      ]
    },
    {
      "cell_type": "code",
      "metadata": {
        "id": "jjoKZTKK47Ez"
      },
      "source": [
        "num_attributes = df1.select_dtypes(include=['int64','float64'])\n",
        "cat_attributes = df1.select_dtypes(exclude=['int64','float64','datetime64[ns]'])"
      ],
      "execution_count": 69,
      "outputs": []
    },
    {
      "cell_type": "markdown",
      "metadata": {
        "id": "JkE4KeSq5j4p"
      },
      "source": [
        "### 1.7.1. Numerical Attributes"
      ]
    },
    {
      "cell_type": "code",
      "metadata": {
        "id": "VnB8HO8J5i0e"
      },
      "source": [
        "# Central Tendency - mean, median\n",
        "ct1 = pd.DataFrame(num_attributes.apply(np.mean)).T\n",
        "ct2 = pd.DataFrame(num_attributes.apply(np.median)).T\n",
        "\n",
        "# Dispersion - std, min, max, range, skew, kurtosis\n",
        "d1 = pd.DataFrame(num_attributes.apply(np.std)).T\n",
        "d2 = pd.DataFrame(num_attributes.apply(min)).T\n",
        "d3 = pd.DataFrame(num_attributes.apply(max)).T\n",
        "d4 = pd.DataFrame(num_attributes.apply(lambda x: x.max() - x.min())).T\n",
        "d5 = pd.DataFrame(num_attributes.apply(lambda x: x.skew())).T\n",
        "d6 = pd.DataFrame(num_attributes.apply(lambda x: x.kurtosis())).T\n",
        "\n",
        "# Contacatenate\n",
        "n = pd.concat([d2,d3,d4,ct1,ct2,d1,d5,d6]).T.reset_index()\n",
        "n.columns = ['Attributes','Min','Max','Range','Mean','Median','Std','Skew','Kurtosis']"
      ],
      "execution_count": 70,
      "outputs": []
    },
    {
      "cell_type": "code",
      "metadata": {
        "colab": {
          "base_uri": "https://localhost:8080/",
          "height": 238
        },
        "id": "5S49YqL95q45",
        "outputId": "0cb7a6fb-b4e5-434a-8eab-8da88d29fbad"
      },
      "source": [
        "n"
      ],
      "execution_count": 71,
      "outputs": [
        {
          "output_type": "execute_result",
          "data": {
            "text/html": [
              "<div>\n",
              "<style scoped>\n",
              "    .dataframe tbody tr th:only-of-type {\n",
              "        vertical-align: middle;\n",
              "    }\n",
              "\n",
              "    .dataframe tbody tr th {\n",
              "        vertical-align: top;\n",
              "    }\n",
              "\n",
              "    .dataframe thead th {\n",
              "        text-align: right;\n",
              "    }\n",
              "</style>\n",
              "<table border=\"1\" class=\"dataframe\">\n",
              "  <thead>\n",
              "    <tr style=\"text-align: right;\">\n",
              "      <th></th>\n",
              "      <th>Attributes</th>\n",
              "      <th>Min</th>\n",
              "      <th>Max</th>\n",
              "      <th>Range</th>\n",
              "      <th>Mean</th>\n",
              "      <th>Median</th>\n",
              "      <th>Std</th>\n",
              "      <th>Skew</th>\n",
              "      <th>Kurtosis</th>\n",
              "    </tr>\n",
              "  </thead>\n",
              "  <tbody>\n",
              "    <tr>\n",
              "      <th>0</th>\n",
              "      <td>date_block_num</td>\n",
              "      <td>0.0</td>\n",
              "      <td>33.0</td>\n",
              "      <td>33.0</td>\n",
              "      <td>14.569911</td>\n",
              "      <td>14.0</td>\n",
              "      <td>9.422986</td>\n",
              "      <td>0.203858</td>\n",
              "      <td>-1.082869</td>\n",
              "    </tr>\n",
              "    <tr>\n",
              "      <th>1</th>\n",
              "      <td>shop_id</td>\n",
              "      <td>0.0</td>\n",
              "      <td>59.0</td>\n",
              "      <td>59.0</td>\n",
              "      <td>33.001728</td>\n",
              "      <td>31.0</td>\n",
              "      <td>16.226970</td>\n",
              "      <td>-0.072361</td>\n",
              "      <td>-1.025358</td>\n",
              "    </tr>\n",
              "    <tr>\n",
              "      <th>2</th>\n",
              "      <td>item_id</td>\n",
              "      <td>0.0</td>\n",
              "      <td>22169.0</td>\n",
              "      <td>22169.0</td>\n",
              "      <td>10197.227057</td>\n",
              "      <td>9343.0</td>\n",
              "      <td>6324.296277</td>\n",
              "      <td>0.257174</td>\n",
              "      <td>-1.225210</td>\n",
              "    </tr>\n",
              "    <tr>\n",
              "      <th>3</th>\n",
              "      <td>item_price</td>\n",
              "      <td>-1.0</td>\n",
              "      <td>307980.0</td>\n",
              "      <td>307981.0</td>\n",
              "      <td>890.853233</td>\n",
              "      <td>399.0</td>\n",
              "      <td>1729.799336</td>\n",
              "      <td>10.750423</td>\n",
              "      <td>445.532826</td>\n",
              "    </tr>\n",
              "    <tr>\n",
              "      <th>4</th>\n",
              "      <td>item_cnt_day</td>\n",
              "      <td>-22.0</td>\n",
              "      <td>2169.0</td>\n",
              "      <td>2191.0</td>\n",
              "      <td>1.242641</td>\n",
              "      <td>1.0</td>\n",
              "      <td>2.618834</td>\n",
              "      <td>272.833162</td>\n",
              "      <td>177478.098774</td>\n",
              "    </tr>\n",
              "    <tr>\n",
              "      <th>5</th>\n",
              "      <td>item_category_id</td>\n",
              "      <td>0.0</td>\n",
              "      <td>83.0</td>\n",
              "      <td>83.0</td>\n",
              "      <td>40.001383</td>\n",
              "      <td>40.0</td>\n",
              "      <td>17.100756</td>\n",
              "      <td>0.318283</td>\n",
              "      <td>-0.525158</td>\n",
              "    </tr>\n",
              "  </tbody>\n",
              "</table>\n",
              "</div>"
            ],
            "text/plain": [
              "         Attributes   Min       Max  ...          Std        Skew       Kurtosis\n",
              "0    date_block_num   0.0      33.0  ...     9.422986    0.203858      -1.082869\n",
              "1           shop_id   0.0      59.0  ...    16.226970   -0.072361      -1.025358\n",
              "2           item_id   0.0   22169.0  ...  6324.296277    0.257174      -1.225210\n",
              "3        item_price  -1.0  307980.0  ...  1729.799336   10.750423     445.532826\n",
              "4      item_cnt_day -22.0    2169.0  ...     2.618834  272.833162  177478.098774\n",
              "5  item_category_id   0.0      83.0  ...    17.100756    0.318283      -0.525158\n",
              "\n",
              "[6 rows x 9 columns]"
            ]
          },
          "metadata": {},
          "execution_count": 71
        }
      ]
    },
    {
      "cell_type": "markdown",
      "metadata": {
        "id": "0S11x5FA56aJ"
      },
      "source": [
        "### 1.7.2. Categorical Attributes"
      ]
    },
    {
      "cell_type": "code",
      "metadata": {
        "colab": {
          "base_uri": "https://localhost:8080/"
        },
        "id": "lMd5_PXf5snK",
        "outputId": "0d4bbe6c-3ee0-4327-9ab0-7e8711d06765"
      },
      "source": [
        "# Unique values\n",
        "cat_attributes.apply(lambda x: x.unique().shape[0])"
      ],
      "execution_count": 72,
      "outputs": [
        {
          "output_type": "execute_result",
          "data": {
            "text/plain": [
              "item_name             21720\n",
              "item_category_name       84\n",
              "shop_name                60\n",
              "dtype: int64"
            ]
          },
          "metadata": {},
          "execution_count": 72
        }
      ]
    },
    {
      "cell_type": "markdown",
      "metadata": {
        "id": "04h7KG-76ZEA"
      },
      "source": [
        "# 2. Feature Engineering"
      ]
    },
    {
      "cell_type": "code",
      "metadata": {
        "id": "L-R8drGd6Dv2"
      },
      "source": [
        "df2 = df1.copy()"
      ],
      "execution_count": 73,
      "outputs": []
    },
    {
      "cell_type": "markdown",
      "metadata": {
        "id": "W59a-VNC05If"
      },
      "source": [
        "## 2.1. Hypothesis Mind Map"
      ]
    },
    {
      "cell_type": "markdown",
      "metadata": {
        "id": "1UMlG9oM09ym"
      },
      "source": [
        "## 2.2. List of Hypothesis"
      ]
    },
    {
      "cell_type": "markdown",
      "metadata": {
        "id": "RDmacG9K1C42"
      },
      "source": [
        "## 2.3. Feature Engineering"
      ]
    },
    {
      "cell_type": "code",
      "metadata": {
        "colab": {
          "base_uri": "https://localhost:8080/"
        },
        "id": "bD-RAi7xwvwD",
        "outputId": "91d92fde-0732-44d3-b595-98b992bf7b34"
      },
      "source": [
        "# Studying item_cnt_day\n",
        "print('Feature item_cnt_day has {} values equal to 0 and {} values less than 0;'.format(df2[df2['item_cnt_day']==0].shape[0],df2[df2['item_cnt_day']<0].shape[0]))\n",
        "# Since a store cannot sell negative amounts of items, we will assume that such amounts mean 0\n",
        "df2['item_cnt_day'] = list(map(lambda x: 0 if x<0 else x, df2['item_cnt_day']))\n",
        "# As seen in 1.7.1. there are high values for the variable, so we will reduce all outliers above the 99.9 percentile to the 99.9 percentile itself\n",
        "#sub_percentil = np.percentile(df2['item_cnt_day'], 99.9)\n",
        "#df2['item_cnt_day'] = list(map(lambda x: sub_percentil if x > sub_percentil else x, df2['item_cnt_day']))"
      ],
      "execution_count": 74,
      "outputs": [
        {
          "output_type": "stream",
          "name": "stdout",
          "text": [
            "Feature item_cnt_day has 0 values equal to 0 and 7356 values less than 0;\n"
          ]
        }
      ]
    },
    {
      "cell_type": "code",
      "metadata": {
        "id": "23-IoZvc6CHX"
      },
      "source": [
        "# Grouping item categories\n",
        "unique_categories = list(df2['item_category_name'].unique())\n",
        "unique_categories.sort()\n",
        "simple_categories = list(map(lambda x: x.split('-')[0], unique_categories))\n",
        "simple_categories = list(map(lambda x: x.split('(')[0].rstrip(), simple_categories))\n",
        "category_dict = dict(zip(unique_categories, simple_categories))\n",
        "df2['simple_categories'] = df2['item_category_name'].map(category_dict)\n",
        "\n",
        "# Extracting shop type from shop name\n",
        "types_list = list(map(lambda x: x.split()[1], unique_shops))\n",
        "type_dict = {'\"Sale\"':'None',\n",
        "             '(Plekhanovskaya,':'None',\n",
        "             'MTRC':'TRC',\n",
        "             'Ordzhonikidze,':'None',\n",
        "             'Posad':'Shopping Center',\n",
        "             'Store':'None',\n",
        "             'TC':'TC',\n",
        "             'TK':'TK',\n",
        "             'TPC':'TPC',\n",
        "             'TRC':'TRC',\n",
        "             'TRK':'TRK',\n",
        "             'digital':'Digital',\n",
        "             'shopping':'Shopping Center',\n",
        "             'st.':'None',\n",
        "             'store':'None',\n",
        "             'trade':'None'}\n",
        "type_list = [*map(type_dict.get,types_list)]\n",
        "shop_type_dict = dict(zip(unique_shops, type_list))\n",
        "df2['shop_type'] = df2['shop_name'].map(shop_type_dict)\n",
        "\n",
        "# Extracting city name from shop name\n",
        "unique_shops = df2['shop_name'].unique()\n",
        "unique_shops.sort()\n",
        "cities = unique_shops\n",
        "cities[:2] = list(map(lambda x: x[2:],cities[:2]))\n",
        "cities = list(map(lambda x: x.split(' ')[0],cities))\n",
        "cities[2] = cities[2][3:]\n",
        "cities = list(map(lambda x: x.capitalize(),cities))\n",
        "cities_dict = dict(zip(unique_shops, cities))\n",
        "df2['city'] = df2['shop_name'].map(cities_dict)\n",
        "\n",
        "# year\n",
        "df2['year'] = df2['date'].dt.year\n",
        "\n",
        "# month\n",
        "df2['month'] = df2['date'].dt.month\n",
        "\n",
        "# day\n",
        "df2['day'] = df2['date'].dt.day\n",
        "\n",
        "# week of year\n",
        "df2['week_of_year'] = df2['date'].dt.weekofyear\n",
        "\n",
        "# year week\n",
        "df2['year_week'] = df2['date'].dt.strftime('%Y-%W')\n",
        "\n",
        "# week in timeline\n",
        "df2['week_tl'] = df2['date'].sub(df2['date'].min()).dt.days // 7 + 1\n",
        "\n",
        "# Creating the response variable 'sales' which represents the weekly sale of each store\n",
        "week_sales_df = df2[['week_tl','shop_name','item_cnt_day']].groupby(['shop_name','week_tl']).sum().reset_index()\n",
        "week_sales_df['dict'] = week_sales_df['shop_name'] + week_sales_df['week_tl'].astype(str) \n",
        "df2['dict'] = df2['shop_name'] + df2['week_tl'].astype(str)\n",
        "sales_dict = dict(zip(week_sales_df['dict'], week_sales_df['item_cnt_day']))\n",
        "df2['sales'] = df2['dict'].map(sales_dict)\n",
        "df2.drop('dict',axis=1,inplace=True)"
      ],
      "execution_count": 75,
      "outputs": []
    },
    {
      "cell_type": "code",
      "metadata": {
        "id": "lILdM1lhMFau",
        "outputId": "edce63eb-6a2e-4287-9ba8-95479fc7f6e2",
        "colab": {
          "base_uri": "https://localhost:8080/",
          "height": 677
        }
      },
      "source": [
        "df2.sample().T"
      ],
      "execution_count": 76,
      "outputs": [
        {
          "output_type": "execute_result",
          "data": {
            "text/html": [
              "<div>\n",
              "<style scoped>\n",
              "    .dataframe tbody tr th:only-of-type {\n",
              "        vertical-align: middle;\n",
              "    }\n",
              "\n",
              "    .dataframe tbody tr th {\n",
              "        vertical-align: top;\n",
              "    }\n",
              "\n",
              "    .dataframe thead th {\n",
              "        text-align: right;\n",
              "    }\n",
              "</style>\n",
              "<table border=\"1\" class=\"dataframe\">\n",
              "  <thead>\n",
              "    <tr style=\"text-align: right;\">\n",
              "      <th></th>\n",
              "      <th>1524591</th>\n",
              "    </tr>\n",
              "  </thead>\n",
              "  <tbody>\n",
              "    <tr>\n",
              "      <th>date</th>\n",
              "      <td>2014-10-03 00:00:00</td>\n",
              "    </tr>\n",
              "    <tr>\n",
              "      <th>date_block_num</th>\n",
              "      <td>14</td>\n",
              "    </tr>\n",
              "    <tr>\n",
              "      <th>shop_id</th>\n",
              "      <td>57</td>\n",
              "    </tr>\n",
              "    <tr>\n",
              "      <th>item_id</th>\n",
              "      <td>1315</td>\n",
              "    </tr>\n",
              "    <tr>\n",
              "      <th>item_price</th>\n",
              "      <td>449</td>\n",
              "    </tr>\n",
              "    <tr>\n",
              "      <th>item_cnt_day</th>\n",
              "      <td>1</td>\n",
              "    </tr>\n",
              "    <tr>\n",
              "      <th>item_name</th>\n",
              "      <td>Armin Van Buuren The Album Collection 4CD (Dig...</td>\n",
              "    </tr>\n",
              "    <tr>\n",
              "      <th>item_category_id</th>\n",
              "      <td>55</td>\n",
              "    </tr>\n",
              "    <tr>\n",
              "      <th>item_category_name</th>\n",
              "      <td>Music - Local CD CD</td>\n",
              "    </tr>\n",
              "    <tr>\n",
              "      <th>shop_name</th>\n",
              "      <td>Yakutsk Ordzhonikidze, 56</td>\n",
              "    </tr>\n",
              "    <tr>\n",
              "      <th>simple_categories</th>\n",
              "      <td>Music</td>\n",
              "    </tr>\n",
              "    <tr>\n",
              "      <th>shop_type</th>\n",
              "      <td>None</td>\n",
              "    </tr>\n",
              "    <tr>\n",
              "      <th>city</th>\n",
              "      <td>Yakutsk</td>\n",
              "    </tr>\n",
              "    <tr>\n",
              "      <th>year</th>\n",
              "      <td>2014</td>\n",
              "    </tr>\n",
              "    <tr>\n",
              "      <th>month</th>\n",
              "      <td>10</td>\n",
              "    </tr>\n",
              "    <tr>\n",
              "      <th>day</th>\n",
              "      <td>3</td>\n",
              "    </tr>\n",
              "    <tr>\n",
              "      <th>week_of_year</th>\n",
              "      <td>40</td>\n",
              "    </tr>\n",
              "    <tr>\n",
              "      <th>year_week</th>\n",
              "      <td>2014-39</td>\n",
              "    </tr>\n",
              "    <tr>\n",
              "      <th>week_tl</th>\n",
              "      <td>92</td>\n",
              "    </tr>\n",
              "    <tr>\n",
              "      <th>sales</th>\n",
              "      <td>961</td>\n",
              "    </tr>\n",
              "  </tbody>\n",
              "</table>\n",
              "</div>"
            ],
            "text/plain": [
              "                                                              1524591\n",
              "date                                              2014-10-03 00:00:00\n",
              "date_block_num                                                     14\n",
              "shop_id                                                            57\n",
              "item_id                                                          1315\n",
              "item_price                                                        449\n",
              "item_cnt_day                                                        1\n",
              "item_name           Armin Van Buuren The Album Collection 4CD (Dig...\n",
              "item_category_id                                                   55\n",
              "item_category_name                                Music - Local CD CD\n",
              "shop_name                                   Yakutsk Ordzhonikidze, 56\n",
              "simple_categories                                               Music\n",
              "shop_type                                                        None\n",
              "city                                                          Yakutsk\n",
              "year                                                             2014\n",
              "month                                                              10\n",
              "day                                                                 3\n",
              "week_of_year                                                       40\n",
              "year_week                                                     2014-39\n",
              "week_tl                                                            92\n",
              "sales                                                             961"
            ]
          },
          "metadata": {},
          "execution_count": 76
        }
      ]
    },
    {
      "cell_type": "markdown",
      "metadata": {
        "id": "iklSe2GwFduN"
      },
      "source": [
        "# 3. Feature Filtering"
      ]
    },
    {
      "cell_type": "code",
      "metadata": {
        "id": "sSLBWQSN9GeF"
      },
      "source": [
        "df3 = df2.copy()"
      ],
      "execution_count": 77,
      "outputs": []
    },
    {
      "cell_type": "markdown",
      "metadata": {
        "id": "f7qG4sOsFj68"
      },
      "source": [
        "## 3.1. Rows Filtering"
      ]
    },
    {
      "cell_type": "code",
      "metadata": {
        "id": "ypXhtxfAFg6z"
      },
      "source": [
        "df3 = df3[df3['sales'] > 0]"
      ],
      "execution_count": 78,
      "outputs": []
    },
    {
      "cell_type": "markdown",
      "metadata": {
        "id": "0OZSL6nAGNrW"
      },
      "source": [
        "## 3.2. Columns Filtering"
      ]
    },
    {
      "cell_type": "code",
      "metadata": {
        "colab": {
          "base_uri": "https://localhost:8080/"
        },
        "id": "pFwBvg8mGBgb",
        "outputId": "9b420110-2ae7-4334-8823-b5cf1919ca2a"
      },
      "source": [
        "cols_drop = ['shop_id','item_id','item_category_id']\n",
        "df3.drop(cols_drop,axis=1,inplace=True)\n",
        "list(df3.columns)"
      ],
      "execution_count": 79,
      "outputs": [
        {
          "output_type": "execute_result",
          "data": {
            "text/plain": [
              "['date',\n",
              " 'date_block_num',\n",
              " 'item_price',\n",
              " 'item_cnt_day',\n",
              " 'item_name',\n",
              " 'item_category_name',\n",
              " 'shop_name',\n",
              " 'simple_categories',\n",
              " 'shop_type',\n",
              " 'city',\n",
              " 'year',\n",
              " 'month',\n",
              " 'day',\n",
              " 'week_of_year',\n",
              " 'year_week',\n",
              " 'week_tl',\n",
              " 'sales']"
            ]
          },
          "metadata": {},
          "execution_count": 79
        }
      ]
    },
    {
      "cell_type": "markdown",
      "metadata": {
        "id": "d_Bn8KbYrnSQ"
      },
      "source": [
        "# 4. Exploratory Data Analysis (EDA)"
      ]
    },
    {
      "cell_type": "code",
      "metadata": {
        "id": "9-2iS5zsJTEj"
      },
      "source": [
        "df4 = df3.copy()"
      ],
      "execution_count": 80,
      "outputs": []
    },
    {
      "cell_type": "markdown",
      "metadata": {
        "id": "y6sPSNUsruU3"
      },
      "source": [
        "## 4.1. Univariate Analysis"
      ]
    },
    {
      "cell_type": "markdown",
      "metadata": {
        "id": "Qe4w1ECJryo5"
      },
      "source": [
        "### 4.1.1. Response Variable"
      ]
    },
    {
      "cell_type": "code",
      "metadata": {
        "colab": {
          "base_uri": "https://localhost:8080/",
          "height": 278
        },
        "id": "gJBh0A-3rszf",
        "outputId": "31ab4d3a-4bf7-49ad-d67d-557b6e129271"
      },
      "source": [
        "#@title Distribution Plot of Sales Variable\n",
        "plt.figure(figsize=(15,8))\n",
        "\n",
        "plt.subplot(2,1,1)\n",
        "sns.distplot(df4['sales'],color=viridis)"
      ],
      "execution_count": 81,
      "outputs": [
        {
          "output_type": "execute_result",
          "data": {
            "text/plain": [
              "<matplotlib.axes._subplots.AxesSubplot at 0x7f6e19204090>"
            ]
          },
          "metadata": {},
          "execution_count": 81
        },
        {
          "output_type": "display_data",
          "data": {
            "image/png": "[encoded data removed]",
            "text/plain": [
              "<Figure size 1080x576 with 1 Axes>"
            ]
          },
          "metadata": {}
        }
      ]
    },
    {
      "cell_type": "code",
      "metadata": {
        "id": "70-6Zlpr6Sr-"
      },
      "source": [
        ""
      ],
      "execution_count": 81,
      "outputs": []
    }
  ]
}