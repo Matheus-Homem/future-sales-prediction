{
  "nbformat": 4,
  "nbformat_minor": 0,
  "metadata": {
    "colab": {
      "name": "Future Sales Prediction.ipynb",
      "provenance": [],
      "collapsed_sections": [],
      "authorship_tag": "ABX9TyP0brfB+9kBJdcc4cOlBXtx",
      "include_colab_link": true
    },
    "kernelspec": {
      "name": "python3",
      "display_name": "Python 3"
    },
    "language_info": {
      "name": "python"
    }
  },
  "cells": [
    {
      "cell_type": "markdown",
      "metadata": {
        "id": "view-in-github",
        "colab_type": "text"
      },
      "source": [
        "<a href=\"https://colab.research.google.com/github/Matheus-Homem/future-sales-prediction/blob/main/notebook/Future_Sales_Prediction.ipynb\" target=\"_parent\"><img src=\"https://colab.research.google.com/assets/colab-badge.svg\" alt=\"Open In Colab\"/></a>"
      ]
    },
    {
      "cell_type": "markdown",
      "metadata": {
        "id": "3o4smiNcsKX1"
      },
      "source": [
        "# 0. Imports"
      ]
    },
    {
      "cell_type": "markdown",
      "metadata": {
        "id": "VHkH_tzdyxBi"
      },
      "source": [
        "## 0.1. Libraries"
      ]
    },
    {
      "cell_type": "code",
      "metadata": {
        "id": "DfOkpi50sCtv"
      },
      "source": [
        "import pandas as pd\n",
        "import numpy as np\n",
        "import seaborn as sns\n",
        "sns.set_style('darkgrid')"
      ],
      "execution_count": 12,
      "outputs": []
    },
    {
      "cell_type": "code",
      "metadata": {
        "id": "e4nJ6dGXtI8O"
      },
      "source": [
        "import warnings\n",
        "warnings.filterwarnings('ignore')"
      ],
      "execution_count": 13,
      "outputs": []
    },
    {
      "cell_type": "markdown",
      "metadata": {
        "id": "TVqXmvb4tQ3D"
      },
      "source": [
        "## 0.2. Loading Data"
      ]
    },
    {
      "cell_type": "code",
      "metadata": {
        "id": "Re7dYxQUtO5u"
      },
      "source": [
        "# Importing data from .csv\n",
        "item_categories = pd.read_csv(\"https://github.com/Matheus-Homem/future-sales-prediction/raw/main/data/item_categories%20(translated).csv\")\n",
        "items = pd.read_csv(\"https://github.com/Matheus-Homem/future-sales-prediction/raw/main/data/items%20(translated).csv\")\n",
        "sales_train = pd.read_csv(\"https://github.com/Matheus-Homem/future-sales-prediction/raw/main/data/sales_train.csv\")\n",
        "shops = pd.read_csv(\"https://github.com/Matheus-Homem/future-sales-prediction/raw/main/data/shops%20(translated).csv\")"
      ],
      "execution_count": 14,
      "outputs": []
    },
    {
      "cell_type": "code",
      "metadata": {
        "colab": {
          "base_uri": "https://localhost:8080/"
        },
        "id": "JHEEC-jEvpJy",
        "outputId": "12e6192d-5c47-46f9-c528-712fa73abe9c"
      },
      "source": [
        "# First row of 'item_categories'\n",
        "item_categories.loc[0]"
      ],
      "execution_count": 15,
      "outputs": [
        {
          "output_type": "execute_result",
          "data": {
            "text/plain": [
              "item_category_name         PC - Гарнитуры/Наушники\n",
              "item_category_name_en    PC - Headset / Headphones\n",
              "item_category_id                                 0\n",
              "Name: 0, dtype: object"
            ]
          },
          "metadata": {},
          "execution_count": 15
        }
      ]
    },
    {
      "cell_type": "code",
      "metadata": {
        "colab": {
          "base_uri": "https://localhost:8080/"
        },
        "id": "o87vFi7pu7re",
        "outputId": "bdb2bfe9-535f-48b1-cfc0-be6f36aece05"
      },
      "source": [
        "# First row of 'items'\n",
        "items.loc[0]"
      ],
      "execution_count": 16,
      "outputs": [
        {
          "output_type": "execute_result",
          "data": {
            "text/plain": [
              "item_name                ! ВО ВЛАСТИ НАВАЖДЕНИЯ (ПЛАСТ.)         D\n",
              "item_name_en        Lucky In the power of the puffy (reservoir.) D\n",
              "item_id                                                          0\n",
              "item_category_id                                                40\n",
              "Name: 0, dtype: object"
            ]
          },
          "metadata": {},
          "execution_count": 16
        }
      ]
    },
    {
      "cell_type": "code",
      "metadata": {
        "colab": {
          "base_uri": "https://localhost:8080/"
        },
        "id": "gjrpgsTAvzPS",
        "outputId": "a5d72135-f648-41c9-8c5a-a81f412cec40"
      },
      "source": [
        "# First row of 'sales_train'\n",
        "sales_train.loc[0]"
      ],
      "execution_count": 17,
      "outputs": [
        {
          "output_type": "execute_result",
          "data": {
            "text/plain": [
              "date              02.01.2013\n",
              "date_block_num             0\n",
              "shop_id                   59\n",
              "item_id                22154\n",
              "item_price               999\n",
              "item_cnt_day               1\n",
              "Name: 0, dtype: object"
            ]
          },
          "metadata": {},
          "execution_count": 17
        }
      ]
    },
    {
      "cell_type": "code",
      "metadata": {
        "colab": {
          "base_uri": "https://localhost:8080/"
        },
        "id": "BgjyldMBxQeK",
        "outputId": "a1ea7b41-c767-4fd1-ec57-0ab908abac2d"
      },
      "source": [
        "# First row of 'shops'\n",
        "shops.loc[0]"
      ],
      "execution_count": 18,
      "outputs": [
        {
          "output_type": "execute_result",
          "data": {
            "text/plain": [
              "shop_name          !Якутск Орджоникидзе, 56 фран\n",
              "shop_name_en    ! Yakutsk Ordzhonikidze, 56 fran\n",
              "shop_id                                        0\n",
              "Name: 0, dtype: object"
            ]
          },
          "metadata": {},
          "execution_count": 18
        }
      ]
    },
    {
      "cell_type": "markdown",
      "metadata": {
        "id": "r2lOF9P-zEYQ"
      },
      "source": [
        "## 0.3. Helper Functions"
      ]
    },
    {
      "cell_type": "code",
      "metadata": {
        "id": "TKC-BMSQx1uQ"
      },
      "source": [
        ""
      ],
      "execution_count": 18,
      "outputs": []
    },
    {
      "cell_type": "markdown",
      "metadata": {
        "id": "1vKcpaXKzJCA"
      },
      "source": [
        "# 1. Data Description"
      ]
    },
    {
      "cell_type": "markdown",
      "metadata": {
        "id": "oeHxgdDNzSfZ"
      },
      "source": [
        "## 1.1. Merging Tables"
      ]
    },
    {
      "cell_type": "code",
      "metadata": {
        "colab": {
          "base_uri": "https://localhost:8080/",
          "height": 363
        },
        "id": "uY3eZDwKzM3b",
        "outputId": "908e61a6-a493-44e5-9c93-19d49246b370"
      },
      "source": [
        "df1 = pd.merge(items,item_categories,on='item_category_id')\n",
        "df1 = pd.merge(sales_train,df1,on='item_id')\n",
        "df1 = pd.merge(df1,shops,on='shop_id')\n",
        "\n",
        "cols_drop = ['item_name','item_category_name','shop_name']\n",
        "df1 = df1.drop(cols_drop, axis=1)\n",
        "\n",
        "df1.rename(columns={'item_name_en': 'item_name',\n",
        "                   'item_category_name_en': 'item_category_name',\n",
        "                   'shop_name_en': 'shop_name'},\n",
        "                   inplace=True)\n",
        "\n",
        "df1.sample().T"
      ],
      "execution_count": 22,
      "outputs": [
        {
          "output_type": "execute_result",
          "data": {
            "text/html": [
              "<div>\n",
              "<style scoped>\n",
              "    .dataframe tbody tr th:only-of-type {\n",
              "        vertical-align: middle;\n",
              "    }\n",
              "\n",
              "    .dataframe tbody tr th {\n",
              "        vertical-align: top;\n",
              "    }\n",
              "\n",
              "    .dataframe thead th {\n",
              "        text-align: right;\n",
              "    }\n",
              "</style>\n",
              "<table border=\"1\" class=\"dataframe\">\n",
              "  <thead>\n",
              "    <tr style=\"text-align: right;\">\n",
              "      <th></th>\n",
              "      <th>982809</th>\n",
              "    </tr>\n",
              "  </thead>\n",
              "  <tbody>\n",
              "    <tr>\n",
              "      <th>date</th>\n",
              "      <td>13.09.2014</td>\n",
              "    </tr>\n",
              "    <tr>\n",
              "      <th>date_block_num</th>\n",
              "      <td>20</td>\n",
              "    </tr>\n",
              "    <tr>\n",
              "      <th>shop_id</th>\n",
              "      <td>42</td>\n",
              "    </tr>\n",
              "    <tr>\n",
              "      <th>item_id</th>\n",
              "      <td>8662</td>\n",
              "    </tr>\n",
              "    <tr>\n",
              "      <th>item_price</th>\n",
              "      <td>149</td>\n",
              "    </tr>\n",
              "    <tr>\n",
              "      <th>item_cnt_day</th>\n",
              "      <td>1</td>\n",
              "    </tr>\n",
              "    <tr>\n",
              "      <th>item_name</th>\n",
              "      <td>Barboskina Issue 3: Real Guy (Region)</td>\n",
              "    </tr>\n",
              "    <tr>\n",
              "      <th>item_category_id</th>\n",
              "      <td>40</td>\n",
              "    </tr>\n",
              "    <tr>\n",
              "      <th>item_category_name</th>\n",
              "      <td>Cinema - DVD.</td>\n",
              "    </tr>\n",
              "    <tr>\n",
              "      <th>shop_name</th>\n",
              "      <td>SPB TK \"Nevsky Center\"</td>\n",
              "    </tr>\n",
              "  </tbody>\n",
              "</table>\n",
              "</div>"
            ],
            "text/plain": [
              "                                                   982809\n",
              "date                                           13.09.2014\n",
              "date_block_num                                         20\n",
              "shop_id                                                42\n",
              "item_id                                              8662\n",
              "item_price                                            149\n",
              "item_cnt_day                                            1\n",
              "item_name           Barboskina Issue 3: Real Guy (Region)\n",
              "item_category_id                                       40\n",
              "item_category_name                          Cinema - DVD.\n",
              "shop_name                          SPB TK \"Nevsky Center\""
            ]
          },
          "metadata": {},
          "execution_count": 22
        }
      ]
    },
    {
      "cell_type": "markdown",
      "metadata": {
        "id": "GCqopFbb1zg0"
      },
      "source": [
        "## 1.2. Data Dimensions"
      ]
    },
    {
      "cell_type": "code",
      "metadata": {
        "colab": {
          "base_uri": "https://localhost:8080/"
        },
        "id": "ztahC8hh0vyx",
        "outputId": "964a4db6-c5d2-4461-ac52-5b6fb7fa8975"
      },
      "source": [
        "print('Number of Rows: {:,}'.format(df1.shape[0]))\n",
        "print('Number of Columns: ',df1.shape[1])"
      ],
      "execution_count": 23,
      "outputs": [
        {
          "output_type": "stream",
          "name": "stdout",
          "text": [
            "Number of Rows: 2,935,849\n",
            "Number of Columns:  10\n"
          ]
        }
      ]
    },
    {
      "cell_type": "markdown",
      "metadata": {
        "id": "r4uA0QDV21l5"
      },
      "source": [
        "## 1.3. Data Types"
      ]
    },
    {
      "cell_type": "code",
      "metadata": {
        "colab": {
          "base_uri": "https://localhost:8080/"
        },
        "id": "iUMP7ILQ15rI",
        "outputId": "55af12cf-f320-4755-fcca-be7ee82fa624"
      },
      "source": [
        "df1.dtypes"
      ],
      "execution_count": 24,
      "outputs": [
        {
          "output_type": "execute_result",
          "data": {
            "text/plain": [
              "date                   object\n",
              "date_block_num          int64\n",
              "shop_id                 int64\n",
              "item_id                 int64\n",
              "item_price            float64\n",
              "item_cnt_day          float64\n",
              "item_name              object\n",
              "item_category_id        int64\n",
              "item_category_name     object\n",
              "shop_name              object\n",
              "dtype: object"
            ]
          },
          "metadata": {},
          "execution_count": 24
        }
      ]
    },
    {
      "cell_type": "markdown",
      "metadata": {
        "id": "SjgHBpW-3Trn"
      },
      "source": [
        "## 1.4. Change Data Types"
      ]
    },
    {
      "cell_type": "code",
      "metadata": {
        "id": "PGeYx5yG3I0I"
      },
      "source": [
        "df1['date'] = pd.to_datetime(df1['date'])"
      ],
      "execution_count": 25,
      "outputs": []
    },
    {
      "cell_type": "markdown",
      "metadata": {
        "id": "uhsVF-hD4wQh"
      },
      "source": [
        "## 1.5. NA Checking"
      ]
    },
    {
      "cell_type": "code",
      "metadata": {
        "colab": {
          "base_uri": "https://localhost:8080/"
        },
        "id": "iRc0hD0p4h2F",
        "outputId": "51b5c280-f776-4007-ca58-d7863c027eda"
      },
      "source": [
        "df1.isna().sum()"
      ],
      "execution_count": 26,
      "outputs": [
        {
          "output_type": "execute_result",
          "data": {
            "text/plain": [
              "date                  0\n",
              "date_block_num        0\n",
              "shop_id               0\n",
              "item_id               0\n",
              "item_price            0\n",
              "item_cnt_day          0\n",
              "item_name             0\n",
              "item_category_id      0\n",
              "item_category_name    0\n",
              "shop_name             0\n",
              "dtype: int64"
            ]
          },
          "metadata": {},
          "execution_count": 26
        }
      ]
    },
    {
      "cell_type": "markdown",
      "metadata": {
        "id": "DlIX288p5Hrn"
      },
      "source": [
        "## 1.6. Fillout NA"
      ]
    },
    {
      "cell_type": "markdown",
      "metadata": {
        "id": "nqxJZBAe5KQ_"
      },
      "source": [
        "- None of the columns have null values;"
      ]
    },
    {
      "cell_type": "markdown",
      "metadata": {
        "id": "CbOcge6O5bTX"
      },
      "source": [
        "## 1.7. Descriptive Statistical"
      ]
    },
    {
      "cell_type": "code",
      "metadata": {
        "id": "jjoKZTKK47Ez"
      },
      "source": [
        "num_attributes = df1.select_dtypes(include=['int64','float64'])\n",
        "cat_attributes = df1.select_dtypes(exclude=['int64','float64','datetime64[ns]'])"
      ],
      "execution_count": 27,
      "outputs": []
    },
    {
      "cell_type": "markdown",
      "metadata": {
        "id": "JkE4KeSq5j4p"
      },
      "source": [
        "### 1.7.1. Numerical Attributes"
      ]
    },
    {
      "cell_type": "code",
      "metadata": {
        "id": "VnB8HO8J5i0e"
      },
      "source": [
        "# Central Tendency - mean, median\n",
        "ct1 = pd.DataFrame(num_attributes.apply(np.mean)).T\n",
        "ct2 = pd.DataFrame(num_attributes.apply(np.median)).T\n",
        "\n",
        "# Dispersion - std, min, max, range, skew, kurtosis\n",
        "d1 = pd.DataFrame(num_attributes.apply(np.std)).T\n",
        "d2 = pd.DataFrame(num_attributes.apply(min)).T\n",
        "d3 = pd.DataFrame(num_attributes.apply(max)).T\n",
        "d4 = pd.DataFrame(num_attributes.apply(lambda x: x.max() - x.min())).T\n",
        "d5 = pd.DataFrame(num_attributes.apply(lambda x: x.skew())).T\n",
        "d6 = pd.DataFrame(num_attributes.apply(lambda x: x.kurtosis())).T\n",
        "\n",
        "# Contacatenate\n",
        "n = pd.concat([d2,d3,d4,ct1,ct2,d1,d5,d6]).T.reset_index()\n",
        "n.columns = ['Attributes','Min','Max','Range','Mean','Median','Std','Skew','Kurtosis']"
      ],
      "execution_count": 28,
      "outputs": []
    },
    {
      "cell_type": "code",
      "metadata": {
        "colab": {
          "base_uri": "https://localhost:8080/",
          "height": 238
        },
        "id": "5S49YqL95q45",
        "outputId": "ececd749-fa6e-47c6-ed91-a9b86d7964b7"
      },
      "source": [
        "n"
      ],
      "execution_count": 29,
      "outputs": [
        {
          "output_type": "execute_result",
          "data": {
            "text/html": [
              "<div>\n",
              "<style scoped>\n",
              "    .dataframe tbody tr th:only-of-type {\n",
              "        vertical-align: middle;\n",
              "    }\n",
              "\n",
              "    .dataframe tbody tr th {\n",
              "        vertical-align: top;\n",
              "    }\n",
              "\n",
              "    .dataframe thead th {\n",
              "        text-align: right;\n",
              "    }\n",
              "</style>\n",
              "<table border=\"1\" class=\"dataframe\">\n",
              "  <thead>\n",
              "    <tr style=\"text-align: right;\">\n",
              "      <th></th>\n",
              "      <th>Attributes</th>\n",
              "      <th>Min</th>\n",
              "      <th>Max</th>\n",
              "      <th>Range</th>\n",
              "      <th>Mean</th>\n",
              "      <th>Median</th>\n",
              "      <th>Std</th>\n",
              "      <th>Skew</th>\n",
              "      <th>Kurtosis</th>\n",
              "    </tr>\n",
              "  </thead>\n",
              "  <tbody>\n",
              "    <tr>\n",
              "      <th>0</th>\n",
              "      <td>date_block_num</td>\n",
              "      <td>0.0</td>\n",
              "      <td>33.0</td>\n",
              "      <td>33.0</td>\n",
              "      <td>14.569911</td>\n",
              "      <td>14.0</td>\n",
              "      <td>9.422986</td>\n",
              "      <td>0.203858</td>\n",
              "      <td>-1.082869</td>\n",
              "    </tr>\n",
              "    <tr>\n",
              "      <th>1</th>\n",
              "      <td>shop_id</td>\n",
              "      <td>0.0</td>\n",
              "      <td>59.0</td>\n",
              "      <td>59.0</td>\n",
              "      <td>33.001728</td>\n",
              "      <td>31.0</td>\n",
              "      <td>16.226970</td>\n",
              "      <td>-0.072361</td>\n",
              "      <td>-1.025358</td>\n",
              "    </tr>\n",
              "    <tr>\n",
              "      <th>2</th>\n",
              "      <td>item_id</td>\n",
              "      <td>0.0</td>\n",
              "      <td>22169.0</td>\n",
              "      <td>22169.0</td>\n",
              "      <td>10197.227057</td>\n",
              "      <td>9343.0</td>\n",
              "      <td>6324.296277</td>\n",
              "      <td>0.257174</td>\n",
              "      <td>-1.225210</td>\n",
              "    </tr>\n",
              "    <tr>\n",
              "      <th>3</th>\n",
              "      <td>item_price</td>\n",
              "      <td>-1.0</td>\n",
              "      <td>307980.0</td>\n",
              "      <td>307981.0</td>\n",
              "      <td>890.853233</td>\n",
              "      <td>399.0</td>\n",
              "      <td>1729.799336</td>\n",
              "      <td>10.750423</td>\n",
              "      <td>445.532826</td>\n",
              "    </tr>\n",
              "    <tr>\n",
              "      <th>4</th>\n",
              "      <td>item_cnt_day</td>\n",
              "      <td>-22.0</td>\n",
              "      <td>2169.0</td>\n",
              "      <td>2191.0</td>\n",
              "      <td>1.242641</td>\n",
              "      <td>1.0</td>\n",
              "      <td>2.618834</td>\n",
              "      <td>272.833162</td>\n",
              "      <td>177478.098774</td>\n",
              "    </tr>\n",
              "    <tr>\n",
              "      <th>5</th>\n",
              "      <td>item_category_id</td>\n",
              "      <td>0.0</td>\n",
              "      <td>83.0</td>\n",
              "      <td>83.0</td>\n",
              "      <td>40.001383</td>\n",
              "      <td>40.0</td>\n",
              "      <td>17.100756</td>\n",
              "      <td>0.318283</td>\n",
              "      <td>-0.525158</td>\n",
              "    </tr>\n",
              "  </tbody>\n",
              "</table>\n",
              "</div>"
            ],
            "text/plain": [
              "         Attributes   Min       Max  ...          Std        Skew       Kurtosis\n",
              "0    date_block_num   0.0      33.0  ...     9.422986    0.203858      -1.082869\n",
              "1           shop_id   0.0      59.0  ...    16.226970   -0.072361      -1.025358\n",
              "2           item_id   0.0   22169.0  ...  6324.296277    0.257174      -1.225210\n",
              "3        item_price  -1.0  307980.0  ...  1729.799336   10.750423     445.532826\n",
              "4      item_cnt_day -22.0    2169.0  ...     2.618834  272.833162  177478.098774\n",
              "5  item_category_id   0.0      83.0  ...    17.100756    0.318283      -0.525158\n",
              "\n",
              "[6 rows x 9 columns]"
            ]
          },
          "metadata": {},
          "execution_count": 29
        }
      ]
    },
    {
      "cell_type": "markdown",
      "metadata": {
        "id": "0S11x5FA56aJ"
      },
      "source": [
        "### 1.7.2. Categorical Attributes"
      ]
    },
    {
      "cell_type": "code",
      "metadata": {
        "colab": {
          "base_uri": "https://localhost:8080/"
        },
        "id": "lMd5_PXf5snK",
        "outputId": "a3704192-459b-4b98-ae13-a06c096fecbc"
      },
      "source": [
        "# Unique values\n",
        "cat_attributes.apply(lambda x: x.unique().shape[0])"
      ],
      "execution_count": 30,
      "outputs": [
        {
          "output_type": "execute_result",
          "data": {
            "text/plain": [
              "item_name             21720\n",
              "item_category_name       84\n",
              "shop_name                60\n",
              "dtype: int64"
            ]
          },
          "metadata": {},
          "execution_count": 30
        }
      ]
    },
    {
      "cell_type": "markdown",
      "metadata": {
        "id": "04h7KG-76ZEA"
      },
      "source": [
        "# 2. Feature Engineering"
      ]
    },
    {
      "cell_type": "code",
      "metadata": {
        "id": "L-R8drGd6Dv2"
      },
      "source": [
        "df2 = df1.copy()"
      ],
      "execution_count": 31,
      "outputs": []
    },
    {
      "cell_type": "markdown",
      "metadata": {
        "id": "W59a-VNC05If"
      },
      "source": [
        "## 2.1. Hypothesis Mind Map"
      ]
    },
    {
      "cell_type": "markdown",
      "metadata": {
        "id": "1UMlG9oM09ym"
      },
      "source": [
        "## 2.2. List of Hypothesis"
      ]
    },
    {
      "cell_type": "markdown",
      "metadata": {
        "id": "RDmacG9K1C42"
      },
      "source": [
        "## 2.3. Feature Engineering"
      ]
    },
    {
      "cell_type": "code",
      "metadata": {
        "id": "23-IoZvc6CHX"
      },
      "source": [
        "# Grouping item categories\n",
        "unique_categories = list(df2['item_category_name'].unique())\n",
        "unique_categories.sort()\n",
        "simple_categories = list(map(lambda x: x.split('-')[0], unique_categories))\n",
        "simple_categories = list(map(lambda x: x.split('(')[0].rstrip(), simple_categories))\n",
        "category_dict = dict(zip(unique_categories, simple_categories))\n",
        "df2['simple_categories'] = df2['item_category_name'].map(category_dict)\n",
        "\n",
        "# Extracting city name from shop name\n",
        "unique_shops = df2['shop_name'].unique()\n",
        "unique_shops.sort()\n",
        "cities = unique_shops\n",
        "cities[:2] = list(map(lambda x: x[2:],cities[:2]))\n",
        "cities = list(map(lambda x: x.split(' ')[0],cities))\n",
        "cities[2] = cities[2][3:]\n",
        "cities = list(map(lambda x: x.capitalize(),cities))\n",
        "cities_dict = dict(zip(unique_shops, cities))\n",
        "df2['city'] = df2['shop_name'].map(cities_dict)\n",
        "\n",
        "# year\n",
        "df2['year'] = df2['date'].dt.year\n",
        "\n",
        "# month\n",
        "df2['month'] = df2['date'].dt.month\n",
        "\n",
        "# day\n",
        "df2['day'] = df2['date'].dt.day\n",
        "\n",
        "# week of year\n",
        "df2['week_of_year'] = df2['date'].dt.weekofyear\n",
        "\n",
        "# year week\n",
        "df2['year_week'] = df2['date'].dt.strftime('%Y-%W')"
      ],
      "execution_count": 85,
      "outputs": []
    },
    {
      "cell_type": "code",
      "metadata": {
        "id": "zDLx8uUW6dck",
        "colab": {
          "base_uri": "https://localhost:8080/",
          "height": 582
        },
        "outputId": "0006f620-819d-4812-96e4-95edd611a80e"
      },
      "source": [
        "df2.sample(3).T"
      ],
      "execution_count": 86,
      "outputs": [
        {
          "output_type": "execute_result",
          "data": {
            "text/html": [
              "<div>\n",
              "<style scoped>\n",
              "    .dataframe tbody tr th:only-of-type {\n",
              "        vertical-align: middle;\n",
              "    }\n",
              "\n",
              "    .dataframe tbody tr th {\n",
              "        vertical-align: top;\n",
              "    }\n",
              "\n",
              "    .dataframe thead th {\n",
              "        text-align: right;\n",
              "    }\n",
              "</style>\n",
              "<table border=\"1\" class=\"dataframe\">\n",
              "  <thead>\n",
              "    <tr style=\"text-align: right;\">\n",
              "      <th></th>\n",
              "      <th>238370</th>\n",
              "      <th>2686967</th>\n",
              "      <th>939536</th>\n",
              "    </tr>\n",
              "  </thead>\n",
              "  <tbody>\n",
              "    <tr>\n",
              "      <th>date</th>\n",
              "      <td>2013-12-16 00:00:00</td>\n",
              "      <td>2013-04-08 00:00:00</td>\n",
              "      <td>2014-07-15 00:00:00</td>\n",
              "    </tr>\n",
              "    <tr>\n",
              "      <th>date_block_num</th>\n",
              "      <td>11</td>\n",
              "      <td>7</td>\n",
              "      <td>18</td>\n",
              "    </tr>\n",
              "    <tr>\n",
              "      <th>shop_id</th>\n",
              "      <td>25</td>\n",
              "      <td>45</td>\n",
              "      <td>54</td>\n",
              "    </tr>\n",
              "    <tr>\n",
              "      <th>item_id</th>\n",
              "      <td>17473</td>\n",
              "      <td>7856</td>\n",
              "      <td>15868</td>\n",
              "    </tr>\n",
              "    <tr>\n",
              "      <th>item_price</th>\n",
              "      <td>299</td>\n",
              "      <td>799</td>\n",
              "      <td>3399</td>\n",
              "    </tr>\n",
              "    <tr>\n",
              "      <th>item_cnt_day</th>\n",
              "      <td>1</td>\n",
              "      <td>2</td>\n",
              "      <td>1</td>\n",
              "    </tr>\n",
              "    <tr>\n",
              "      <th>item_name</th>\n",
              "      <td>Damned Path (BD)</td>\n",
              "      <td>World of Warcraft. Game Time Payment Map (Onli...</td>\n",
              "      <td>Set for poker \"Texas Holdem\" 300 chips</td>\n",
              "    </tr>\n",
              "    <tr>\n",
              "      <th>item_category_id</th>\n",
              "      <td>37</td>\n",
              "      <td>28</td>\n",
              "      <td>64</td>\n",
              "    </tr>\n",
              "    <tr>\n",
              "      <th>item_category_name</th>\n",
              "      <td>Cinema - Blu-ray</td>\n",
              "      <td>PC Games - Additional Editions</td>\n",
              "      <td>Gifts - Board Games</td>\n",
              "    </tr>\n",
              "    <tr>\n",
              "      <th>shop_name</th>\n",
              "      <td>Moscow TRK \"Atrium\"</td>\n",
              "      <td>Samara shopping center \"Parkhouse\"</td>\n",
              "      <td>Khimki shopping center \"Mega\"</td>\n",
              "    </tr>\n",
              "    <tr>\n",
              "      <th>simple_categories</th>\n",
              "      <td>Cinema</td>\n",
              "      <td>PC Games</td>\n",
              "      <td>Gifts</td>\n",
              "    </tr>\n",
              "    <tr>\n",
              "      <th>city</th>\n",
              "      <td>Moscow</td>\n",
              "      <td>Samara</td>\n",
              "      <td>Khimki</td>\n",
              "    </tr>\n",
              "    <tr>\n",
              "      <th>year</th>\n",
              "      <td>2013</td>\n",
              "      <td>2013</td>\n",
              "      <td>2014</td>\n",
              "    </tr>\n",
              "    <tr>\n",
              "      <th>month</th>\n",
              "      <td>12</td>\n",
              "      <td>4</td>\n",
              "      <td>7</td>\n",
              "    </tr>\n",
              "    <tr>\n",
              "      <th>day</th>\n",
              "      <td>16</td>\n",
              "      <td>8</td>\n",
              "      <td>15</td>\n",
              "    </tr>\n",
              "    <tr>\n",
              "      <th>week_of_year</th>\n",
              "      <td>51</td>\n",
              "      <td>15</td>\n",
              "      <td>29</td>\n",
              "    </tr>\n",
              "    <tr>\n",
              "      <th>year_week</th>\n",
              "      <td>2013-50</td>\n",
              "      <td>2013-14</td>\n",
              "      <td>2014-28</td>\n",
              "    </tr>\n",
              "  </tbody>\n",
              "</table>\n",
              "</div>"
            ],
            "text/plain": [
              "                                 238370  ...                                  939536\n",
              "date                2013-12-16 00:00:00  ...                     2014-07-15 00:00:00\n",
              "date_block_num                       11  ...                                      18\n",
              "shop_id                              25  ...                                      54\n",
              "item_id                           17473  ...                                   15868\n",
              "item_price                          299  ...                                    3399\n",
              "item_cnt_day                          1  ...                                       1\n",
              "item_name              Damned Path (BD)  ...  Set for poker \"Texas Holdem\" 300 chips\n",
              "item_category_id                     37  ...                                      64\n",
              "item_category_name     Cinema - Blu-ray  ...                     Gifts - Board Games\n",
              "shop_name           Moscow TRK \"Atrium\"  ...           Khimki shopping center \"Mega\"\n",
              "simple_categories                Cinema  ...                                   Gifts\n",
              "city                             Moscow  ...                                  Khimki\n",
              "year                               2013  ...                                    2014\n",
              "month                                12  ...                                       7\n",
              "day                                  16  ...                                      15\n",
              "week_of_year                         51  ...                                      29\n",
              "year_week                       2013-50  ...                                 2014-28\n",
              "\n",
              "[17 rows x 3 columns]"
            ]
          },
          "metadata": {},
          "execution_count": 86
        }
      ]
    },
    {
      "cell_type": "markdown",
      "metadata": {
        "id": "iklSe2GwFduN"
      },
      "source": [
        "# 3. Feature Filtering"
      ]
    },
    {
      "cell_type": "code",
      "metadata": {
        "id": "sSLBWQSN9GeF"
      },
      "source": [
        "df3 = df2.copy()"
      ],
      "execution_count": 87,
      "outputs": []
    },
    {
      "cell_type": "markdown",
      "metadata": {
        "id": "f7qG4sOsFj68"
      },
      "source": [
        "## 3.1. Rows Filtering"
      ]
    },
    {
      "cell_type": "code",
      "metadata": {
        "id": "ypXhtxfAFg6z"
      },
      "source": [
        "df3 = df3[df3['item_cnt_day'] > 0]"
      ],
      "execution_count": 90,
      "outputs": []
    },
    {
      "cell_type": "markdown",
      "metadata": {
        "id": "0OZSL6nAGNrW"
      },
      "source": [
        "## 3.2. Columns Filtering"
      ]
    },
    {
      "cell_type": "code",
      "metadata": {
        "id": "pFwBvg8mGBgb",
        "outputId": "b43d2c8f-6d42-4bfe-97e5-f7bb2c37c379",
        "colab": {
          "base_uri": "https://localhost:8080/"
        }
      },
      "source": [
        "cols_drop = ['shop_id','item_id','item_category_id']\n",
        "df3.drop(cols_drop,axis=1,inplace=True)\n",
        "list(df3.columns)"
      ],
      "execution_count": 91,
      "outputs": [
        {
          "output_type": "execute_result",
          "data": {
            "text/plain": [
              "['date',\n",
              " 'date_block_num',\n",
              " 'item_price',\n",
              " 'item_cnt_day',\n",
              " 'item_name',\n",
              " 'item_category_name',\n",
              " 'shop_name',\n",
              " 'simple_categories',\n",
              " 'city',\n",
              " 'year',\n",
              " 'month',\n",
              " 'day',\n",
              " 'week_of_year',\n",
              " 'year_week']"
            ]
          },
          "metadata": {},
          "execution_count": 91
        }
      ]
    },
    {
      "cell_type": "code",
      "metadata": {
        "id": "Kt66AFoHGiwM",
        "outputId": "fdd85a37-4ed2-4ded-900f-58e8cbb9fe90",
        "colab": {
          "base_uri": "https://localhost:8080/"
        }
      },
      "source": [
        "df3['date'].sub(df3['date'].min()).dt.days // 7 + 1"
      ],
      "execution_count": 95,
      "outputs": [
        {
          "output_type": "execute_result",
          "data": {
            "text/plain": [
              "0            5\n",
              "1           20\n",
              "2            4\n",
              "3           35\n",
              "4            8\n",
              "          ... \n",
              "2935844    148\n",
              "2935845    148\n",
              "2935846    147\n",
              "2935847    106\n",
              "2935848    146\n",
              "Name: date, Length: 2928493, dtype: int64"
            ]
          },
          "metadata": {},
          "execution_count": 95
        }
      ]
    },
    {
      "cell_type": "code",
      "metadata": {
        "id": "RuKeHMqrH837",
        "outputId": "2b11cc15-9fd9-418a-9be7-c1bfe5330ccf",
        "colab": {
          "base_uri": "https://localhost:8080/"
        }
      },
      "source": [
        "min(df3['date'])"
      ],
      "execution_count": 96,
      "outputs": [
        {
          "output_type": "execute_result",
          "data": {
            "text/plain": [
              "Timestamp('2013-01-01 00:00:00')"
            ]
          },
          "metadata": {},
          "execution_count": 96
        }
      ]
    },
    {
      "cell_type": "code",
      "metadata": {
        "id": "pS03iL8hJPp7",
        "outputId": "3909e6b8-af91-4e6e-e6d3-786f4ff81176",
        "colab": {
          "base_uri": "https://localhost:8080/"
        }
      },
      "source": [
        "max(df3['date'])"
      ],
      "execution_count": 97,
      "outputs": [
        {
          "output_type": "execute_result",
          "data": {
            "text/plain": [
              "Timestamp('2015-12-10 00:00:00')"
            ]
          },
          "metadata": {},
          "execution_count": 97
        }
      ]
    },
    {
      "cell_type": "code",
      "metadata": {
        "id": "9-2iS5zsJTEj"
      },
      "source": [
        ""
      ],
      "execution_count": null,
      "outputs": []
    }
  ]
}